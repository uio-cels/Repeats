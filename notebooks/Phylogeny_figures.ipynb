{
 "cells": [
  {
   "cell_type": "markdown",
   "metadata": {},
   "source": [
    "# Figures with phylogeny"
   ]
  },
  {
   "cell_type": "markdown",
   "metadata": {},
   "source": [
    "Loading modules"
   ]
  },
  {
   "cell_type": "code",
   "execution_count": 34,
   "metadata": {
    "collapsed": true
   },
   "outputs": [],
   "source": [
    "import pandas as pd\n",
    "import matplotlib.pyplot as plt\n",
    "%matplotlib inline\n",
    "import numpy as np\n",
    "import seaborn as sns"
   ]
  },
  {
   "cell_type": "markdown",
   "metadata": {},
   "source": [
    "Loading data"
   ]
  },
  {
   "cell_type": "code",
   "execution_count": 3,
   "metadata": {
    "collapsed": false
   },
   "outputs": [],
   "source": [
    "# Result of masking genomes with de novo + eukaryotic RepBase database\n",
    "total = pd.read_csv(\"../ipython_data/total_repeats.dataframe\", sep = \"\\t\", index_col = False, na_values='na',\n",
    "                       names = [\"ALIAS\", \"NAME\", \"CLASS\", \"FAM\", \"CLASS_FAM\", \"FULL\", \n",
    "                                \"LENGTH\", \"FRG\", \"FULL_FRG\", \"NR_FRG\", \"AVG_DIV\",\n",
    "                                \"MED_DIV\", \"AVG_DEL\", \"MED_DEL\", \"AVG_INS\", \"MED_INS\",\n",
    "                                \"LEN_MASKED\", \"AVG_LEN_MASKED\", \"MED_LEN_MASKED\", \"GENOME_PERC\",\n",
    "                                \"LEN_OVERLAP\", \"GENOME_PERC_OVERLAP\", \"LEN_MASKED_OVERLAP\"])\n",
    "annot = pd.read_csv(\"../ipython_data/names.tab\", encoding = \"UTF-8\", sep = \"\\t\",\\\n",
    "                    names = [\"ALIAS\", \"ORDER\", \"SPECIES\", \"COMMON_NAME\"])\n",
    "stats = pd.read_csv(\"../ipython_data/N50.tab\", sep = \" \",\\\n",
    "                    names = [\"ALIAS\", \"N50\", \"ASSEMBLY_SIZE\", \"A%\", \"G%\", \"C%\", \"T%\"]).drop_duplicates()\n",
    "annotstats = pd.merge(annot, stats) # Additional info combined\n",
    "\n",
    "alias74 = pd.read_table('../ipython_data/74aliases', header = None, names = ['ALIAS'])\n",
    "df1 = pd.merge(total, annotstats)\n",
    "df2 = pd.merge(alias74, df1) # Final frame"
   ]
  },
  {
   "cell_type": "markdown",
   "metadata": {},
   "source": [
    "# Tree with simple (tandem) repeats and TE content"
   ]
  },
  {
   "cell_type": "code",
   "execution_count": 69,
   "metadata": {
    "collapsed": false
   },
   "outputs": [
    {
     "data": {
      "text/plain": [
       "'Done'"
      ]
     },
     "execution_count": 69,
     "metadata": {},
     "output_type": "execute_result"
    }
   ],
   "source": [
    "from ete3 import Tree, faces, TreeStyle, TextFace, NodeStyle, CircleFace\n",
    "\n",
    "def make_a_tree(tree, order, filename):\n",
    "    # Importing full phylogeny\n",
    "    t = Tree(tree)\n",
    "    \n",
    "\n",
    "    fish_94 = t.search_nodes(name=\"fish_94\")[0]\n",
    "    fish_94.delete()\n",
    "    fish_107 = t.search_nodes(name=\"fish_107\")[0]\n",
    "    fish_107.delete()\n",
    "    \n",
    "    # For every node label, get the names\n",
    "    fish = []\n",
    "    for node in t.traverse():\n",
    "        if 'fish' in node.name:\n",
    "            fish.append(node.name)\n",
    "    \n",
    "\n",
    "    # Create the layout\n",
    "    def mylayout(node): \n",
    "        if node.is_leaf():\n",
    "            for i in fish:\n",
    "                if node.search_nodes(name = i):\n",
    "\n",
    "    \n",
    "                    if i in set(df2.ALIAS): \n",
    "                        # Adding 'SPECIES' to circle\n",
    "                        faces.add_face_to_node(faces.TextFace('%s' \\\n",
    "                        % df2[df2['ALIAS']==i].SPECIES.unique()[0], \n",
    "                        fsize = 12,fstyle = 'italic'), node, column=0)\n",
    "                    \n",
    "                        # Showing TR content \n",
    "                        TR = CircleFace(radius=np.log(df2[(df2['ALIAS']==i) &\n",
    "                             (df2['CLASS']=='Simple_repeat')].groupby('ALIAS').sum().GENOME_PERC[0]) * 2, \n",
    "                             color=\"RoyalBlue\", style=\"circle\")\n",
    "\n",
    "                        # Let's make the sphere transparent\n",
    "                        TR.opacity = 0.9\n",
    "                        # And place as a float face over the tree\n",
    "                        faces.add_face_to_node(TR, node, column = 1, aligned = True)\n",
    "                        \n",
    "                        # Showing TE content\n",
    "                        TE = CircleFace(radius=np.log(df2[(df2['ALIAS']==i) &\n",
    "                             (df2['CLASS'].isin(['DNA', 'LTR', 'SINE', 'Unknown']))].groupby('ALIAS').sum().GENOME_PERC[0]) *2, \n",
    "                             color=\"FireBrick\", style=\"circle\")\n",
    "\n",
    "                        # Let's make the sphere transparent\n",
    "                        TE.opacity = 0.9\n",
    "                        # And place as a float face over the tree\n",
    "                        faces.add_face_to_node(TE, node, column = 2, aligned = True)\n",
    "                        \n",
    "\n",
    "\n",
    "    for n in t.traverse():\n",
    "        nstyle = NodeStyle()\n",
    "        nstyle[\"fgcolor\"] = \"White\"\n",
    "        nstyle[\"size\"] = 0.1\n",
    "        n.set_style(nstyle)\n",
    "    \n",
    "    # Coloring Acanthomorphata\n",
    "    n = t.get_common_ancestor(set(df2[(df2['SPECIES']=='Polymixia japonica') |\n",
    "                                           (df2['SPECIES']=='Gadus morhua')].ALIAS))\n",
    "    nstyle = NodeStyle()\n",
    "    #nstyle['bgcolor'] = 'Bisque'\n",
    "    nstyle['bgcolor'] = 'Seashell'\n",
    "    n.set_style(nstyle)\n",
    "\n",
    "    # Coloring Gadiformes\n",
    "    n = t.get_common_ancestor(set(df2[df2['ORDER']=='Gadiformes'].ALIAS))\n",
    "    nstyle = NodeStyle()\n",
    "    #nstyle['bgcolor'] = 'BlanchedAlmond'\n",
    "    nstyle['bgcolor'] = 'WhiteSmoke'\n",
    "    n.set_style(nstyle)\n",
    "    \n",
    "    \n",
    "    # Coloring Acanthopterygii\n",
    "    n = t.get_common_ancestor(set(df2[(df2['SPECIES']=='Monocentris japonica') |\n",
    "                                           (df2['SPECIES']=='Xiphophorus maculatus')].ALIAS))\n",
    "    nstyle = NodeStyle()\n",
    "    #nstyle['bgcolor'] = 'Plum'\n",
    "    nstyle['bgcolor'] = 'Ivory'\n",
    "    n.set_style(nstyle)\n",
    "\n",
    "    # Coloring Percomorphaceae\n",
    "    n = t.get_common_ancestor(set(df2[(df2['SPECIES']=='Chatrabus melanurus') |\n",
    "                                           (df2['SPECIES']=='Xiphophorus maculatus')].ALIAS))\n",
    "    nstyle = NodeStyle()\n",
    "    #nstyle['bgcolor'] = 'Thistle'\n",
    "    nstyle['bgcolor'] = 'Snow'\n",
    "    n.set_style(nstyle)\n",
    "    \n",
    "    # Coloring Lampridacea\n",
    "    n = t.get_common_ancestor(set(df2[(df2['SPECIES']=='Regalecus glesne') |\n",
    "                                           (df2['SPECIES']=='Lampris guttauts')].ALIAS))\n",
    "    nstyle = NodeStyle()\n",
    "    #nstyle['bgcolor'] = 'Khaki'\n",
    "    nstyle['bgcolor'] = 'Snow'\n",
    "    n.set_style(nstyle)\n",
    "    \n",
    "    # Coloring the rest\n",
    "    n = t.get_common_ancestor(set(df2[(df2['SPECIES']=='Benthosema glaciale') |\n",
    "                                           (df2['SPECIES']=='Danio rerio')].ALIAS))\n",
    "    nstyle = NodeStyle()\n",
    "    #nstyle['bgcolor'] = 'LavenderBlush'\n",
    "    \n",
    "    nstyle['bgcolor'] = 'Linen'\n",
    "\n",
    "    n.set_style(nstyle)\n",
    "    \n",
    "    # Display the tree\n",
    "    ts = TreeStyle()\n",
    "    ts.show_leaf_name = False\n",
    "    ts.show_branch_length = False\n",
    "    ts.show_scale = False\n",
    "    ts.layout_fn = mylayout\n",
    "    ts.mode = 'c'\n",
    "    #ts.tree_width = 2000 \n",
    "    t.render(filename, tree_style = ts)\n",
    "    return \"Done\"\n",
    "\n",
    "make_a_tree('../phylogeny/final_tree.tre', '', '../figures/%s_tree.pdf' % '3.may_test_circle_barplot')"
   ]
  },
  {
   "cell_type": "markdown",
   "metadata": {},
   "source": [
    "# Heatmap-tree"
   ]
  },
  {
   "cell_type": "code",
   "execution_count": 11,
   "metadata": {
    "collapsed": false
   },
   "outputs": [],
   "source": [
    "a = df2[df2['FAM'].isin(inc)].dropna().groupby(by=['FAM', 'SPECIES']).sum()[['GENOME_PERC']].reset_index()\n",
    "frame = a.dropna().groupby(by=['FAM', 'SPECIES']).sum()"
   ]
  },
  {
   "cell_type": "markdown",
   "metadata": {},
   "source": [
    "Frame for heatmap"
   ]
  },
  {
   "cell_type": "code",
   "execution_count": 38,
   "metadata": {
    "collapsed": false
   },
   "outputs": [
    {
     "data": {
      "text/html": [
       "<div>\n",
       "<table border=\"1\" class=\"dataframe\">\n",
       "  <thead>\n",
       "    <tr style=\"text-align: right;\">\n",
       "      <th></th>\n",
       "      <th></th>\n",
       "      <th>GENOME_PERC</th>\n",
       "    </tr>\n",
       "    <tr>\n",
       "      <th>FAM</th>\n",
       "      <th>SPECIES</th>\n",
       "      <th></th>\n",
       "    </tr>\n",
       "  </thead>\n",
       "  <tbody>\n",
       "    <tr>\n",
       "      <th rowspan=\"5\" valign=\"top\">CMC-EnSpm</th>\n",
       "      <th>Acanthochaenus luetkenii</th>\n",
       "      <td>0.161978</td>\n",
       "    </tr>\n",
       "    <tr>\n",
       "      <th>Anabas testudineus</th>\n",
       "      <td>0.042760</td>\n",
       "    </tr>\n",
       "    <tr>\n",
       "      <th>Antennarius striatus</th>\n",
       "      <td>0.079826</td>\n",
       "    </tr>\n",
       "    <tr>\n",
       "      <th>Arctogadus glacialis</th>\n",
       "      <td>0.217231</td>\n",
       "    </tr>\n",
       "    <tr>\n",
       "      <th>Astyanax mexicanus</th>\n",
       "      <td>0.079107</td>\n",
       "    </tr>\n",
       "  </tbody>\n",
       "</table>\n",
       "</div>"
      ],
      "text/plain": [
       "                                    GENOME_PERC\n",
       "FAM       SPECIES                              \n",
       "CMC-EnSpm Acanthochaenus luetkenii     0.161978\n",
       "          Anabas testudineus           0.042760\n",
       "          Antennarius striatus         0.079826\n",
       "          Arctogadus glacialis         0.217231\n",
       "          Astyanax mexicanus           0.079107"
      ]
     },
     "execution_count": 38,
     "metadata": {},
     "output_type": "execute_result"
    }
   ],
   "source": [
    "frame.head()"
   ]
  },
  {
   "cell_type": "markdown",
   "metadata": {},
   "source": [
    "# List of top 30 TE family names"
   ]
  },
  {
   "cell_type": "code",
   "execution_count": 32,
   "metadata": {
    "collapsed": false
   },
   "outputs": [
    {
     "data": {
      "text/plain": [
       "array(['RTE-X', 'Kolobok-Hydra', 'PIF-ISL2EU', 'TcMar-Tc2', 'R2-Hero',\n",
       "       'RTE', 'Copia', 'ERVK', 'Kolobok-T2', 'hAT', 'Maverick', 'DIRS',\n",
       "       'L1-Tx1', 'hAT-Tip100', 'Ginger', 'Pao', 'Penelope', 'Novosib',\n",
       "       'Sola', 'ERV1', 'PIF-Harbinger', 'L1', 'hAT-Charlie', 'CMC-EnSpm',\n",
       "       'hAT-Ac', 'RTE-BovB', 'Rex-Babar', 'Gypsy', 'TcMar-Tc1', 'L2'], dtype=object)"
      ]
     },
     "execution_count": 32,
     "metadata": {},
     "output_type": "execute_result"
    }
   ],
   "source": [
    "a = df2[df2['CLASS'].isin(['DNA', 'LTR', 'LINE', 'SINE'])]\n",
    "a = a[~a['FAM'].isin(['Unknown', 'DNA', 'LTR', 'LINE', 'SINE', 'hAT?'])]\n",
    "a.groupby(['FAM']).sum()[['GENOME_PERC']].sort_values(by='GENOME_PERC').tail(30).reset_index().FAM.values"
   ]
  },
  {
   "cell_type": "code",
   "execution_count": 8,
   "metadata": {
    "collapsed": false
   },
   "outputs": [],
   "source": [
    "# The 30 most prevalent TEs based on genome coverage\n",
    "inc = ['RTE-X', 'Kolobok-Hydra', 'PIF-ISL2EU', 'TcMar-Tc2', 'R2-Hero',\n",
    "       'RTE', 'Copia', 'ERVK', 'Kolobok-T2', 'hAT', 'Maverick', 'DIRS',\n",
    "       'L1-Tx1', 'hAT-Tip100', 'Ginger', 'Pao', 'Penelope', 'Novosib',\n",
    "       'Sola', 'ERV1', 'PIF-Harbinger', 'L1', 'hAT-Charlie', 'CMC-EnSpm',\n",
    "       'hAT-Ac', 'RTE-BovB', 'Rex-Babar', 'Gypsy', 'TcMar-Tc1', 'L2']"
   ]
  },
  {
   "cell_type": "code",
   "execution_count": 37,
   "metadata": {
    "collapsed": false
   },
   "outputs": [],
   "source": [
    "def heatmapper(df, title):    \n",
    "    \n",
    "    # Only include families above (the 30 most dominant TEs across all the fish)\n",
    "\n",
    "    frame = df[df['FAM'].isin(inc)].dropna().groupby(by=['FAM', 'SPECIES']).sum() # Frame manipulation\n",
    "\n",
    "    # Make it work with seaborn\n",
    "    def df_for_seaborn(df):\n",
    "        lst = []\n",
    "        for row in df[['GENOME_PERC']].itertuples():\n",
    "            lst2 = []\n",
    "            lst2.append(row[0][0])\n",
    "            lst2.append(row[0][1])\n",
    "            lst2.append(row [1])\n",
    "            lst.append(lst2)\n",
    "        return lst\n",
    "\n",
    "    heatmapdf = pd.DataFrame(data = df_for_seaborn(frame))\n",
    "    \n",
    "    addthis = pd.DataFrame(inc)\n",
    "    addthis[1] = df['SPECIES'].values[0]\n",
    "    addthis[2] = 0\n",
    "    \n",
    "    frames = [addthis, heatmapdf]\n",
    "    heatmapdf = pd.concat(frames) \n",
    "    \n",
    "    \n",
    "    heatmapdf = heatmapdf.pivot_table(index = 0, columns = 1, values = 2)\n",
    "    \n",
    "    with sns.axes_style('white'):\n",
    "        return sns.heatmap(heatmapdf, cbar = False, xticklabels = False,\n",
    "                       yticklabels = False, linecolor = 'Black', vmax = 1, mask=(heatmapdf==0))"
   ]
  },
  {
   "cell_type": "code",
   "execution_count": 20,
   "metadata": {
    "collapsed": false
   },
   "outputs": [
    {
     "data": {
      "image/png": "[encoded data removed]",
      "text/plain": [
       "<matplotlib.figure.Figure at 0x10d845e10>"
      ]
     },
     "metadata": {},
     "output_type": "display_data"
    }
   ],
   "source": [
    "# Need the y axis labels and the scale for the figure\n",
    "\n",
    "sns.set(font_scale=2) \n",
    "\n",
    "fish = df2[df2['ALIAS']=='fish_97']\n",
    "plt.figure(figsize=(10,10))\n",
    "heatmapper(fish, 'All repeats')\n",
    "\n",
    "plt.tight_layout()\n",
    "plt.savefig('../figures/heatmaps/legend_superfams.pdf', format='pdf', transparent = True)"
   ]
  },
  {
   "cell_type": "markdown",
   "metadata": {},
   "source": [
    "## Set 'yticklabels = False' and 'cbar = False' in the 'heatmapper' function"
   ]
  },
  {
   "cell_type": "markdown",
   "metadata": {},
   "source": [
    "A heatmap is produces for each fish, named by the 'ALIAS'. They will be added to the phylogenetic tree later."
   ]
  },
  {
   "cell_type": "code",
   "execution_count": 23,
   "metadata": {
    "collapsed": false
   },
   "outputs": [
    {
     "data": {
      "image/png": "[encoded data removed]",
      "text/plain": [
       "<matplotlib.figure.Figure at 0x12652cb90>"
      ]
     },
     "metadata": {},
     "output_type": "display_data"
    },
    {
     "data": {
      "image/png": "[encoded data removed]",
      "text/plain": [
       "<matplotlib.figure.Figure at 0x1276877d0>"
      ]
     },
     "metadata": {},
     "output_type": "display_data"
    },
    {
     "data": {
      "image/png": "[encoded data removed]",
      "text/plain": [
       "<matplotlib.figure.Figure at 0x127ddb410>"
      ]
     },
     "metadata": {},
     "output_type": "display_data"
    },
    {
     "data": {
      "image/png": "[encoded data removed]",
      "text/plain": [
       "<matplotlib.figure.Figure at 0x126286350>"
      ]
     },
     "metadata": {},
     "output_type": "display_data"
    },
    {
     "data": {
      "image/png": "[encoded data removed]",
      "text/plain": [
       "<matplotlib.figure.Figure at 0x126186e10>"
      ]
     },
     "metadata": {},
     "output_type": "display_data"
    },
    {
     "data": {
      "image/png": "[encoded data removed]",
      "text/plain": [
       "<matplotlib.figure.Figure at 0x124555350>"
      ]
     },
     "metadata": {},
     "output_type": "display_data"
    },
    {
     "data": {
      "image/png": "[encoded data removed]",
      "text/plain": [
       "<matplotlib.figure.Figure at 0x12044e750>"
      ]
     },
     "metadata": {},
     "output_type": "display_data"
    },
    {
     "data": {
      "image/png": "[encoded data removed]",
      "text/plain": [
       "<matplotlib.figure.Figure at 0x1184d86d0>"
      ]
     },
     "metadata": {},
     "output_type": "display_data"
    },
    {
     "data": {
      "image/png": "[encoded data removed]",
      "text/plain": [
       "<matplotlib.figure.Figure at 0x10cdae6d0>"
      ]
     },
     "metadata": {},
     "output_type": "display_data"
    },
    {
     "data": {
      "image/png": "[encoded data removed]",
      "text/plain": [
       "<matplotlib.figure.Figure at 0x10cdca810>"
      ]
     },
     "metadata": {},
     "output_type": "display_data"
    },
    {
     "data": {
      "image/png": "[encoded data removed]",
      "text/plain": [
       "<matplotlib.figure.Figure at 0x112a19310>"
      ]
     },
     "metadata": {},
     "output_type": "display_data"
    },
    {
     "data": {
      "image/png": "[encoded data removed]",
      "text/plain": [
       "<matplotlib.figure.Figure at 0x10cd7c2d0>"
      ]
     },
     "metadata": {},
     "output_type": "display_data"
    },
    {
     "data": {
      "image/png": "[encoded data removed]",
      "text/plain": [
       "<matplotlib.figure.Figure at 0x125f169d0>"
      ]
     },
     "metadata": {},
     "output_type": "display_data"
    },
    {
     "data": {
      "image/png": "[encoded data removed]",
      "text/plain": [
       "<matplotlib.figure.Figure at 0x124db9fd0>"
      ]
     },
     "metadata": {},
     "output_type": "display_data"
    },
    {
     "data": {
      "image/png": "[encoded data removed]",
      "text/plain": [
       "<matplotlib.figure.Figure at 0x12762dd10>"
      ]
     },
     "metadata": {},
     "output_type": "display_data"
    },
    {
     "data": {
      "image/png": "[encoded data removed]",
      "text/plain": [
       "<matplotlib.figure.Figure at 0x127c24ed0>"
      ]
     },
     "metadata": {},
     "output_type": "display_data"
    },
    {
     "data": {
      "image/png": "[encoded data removed]",
      "text/plain": [
       "<matplotlib.figure.Figure at 0x126536950>"
      ]
     },
     "metadata": {},
     "output_type": "display_data"
    },
    {
     "data": {
      "image/png": "[encoded data removed]",
      "text/plain": [
       "<matplotlib.figure.Figure at 0x112a5b190>"
      ]
     },
     "metadata": {},
     "output_type": "display_data"
    },
    {
     "data": {
      "image/png": "[encoded data removed]",
      "text/plain": [
       "<matplotlib.figure.Figure at 0x126d16a10>"
      ]
     },
     "metadata": {},
     "output_type": "display_data"
    },
    {
     "data": {
      "image/png": "[encoded data removed]",
      "text/plain": [
       "<matplotlib.figure.Figure at 0x118104ed0>"
      ]
     },
     "metadata": {},
     "output_type": "display_data"
    },
    {
     "data": {
      "image/png": "[encoded data removed]",
      "text/plain": [
       "<matplotlib.figure.Figure at 0x1260157d0>"
      ]
     },
     "metadata": {},
     "output_type": "display_data"
    },
    {
     "data": {
      "image/png": "[encoded data removed]",
      "text/plain": [
       "<matplotlib.figure.Figure at 0x11244bd10>"
      ]
     },
     "metadata": {},
     "output_type": "display_data"
    },
    {
     "data": {
      "image/png": "[encoded data removed]",
      "text/plain": [
       "<matplotlib.figure.Figure at 0x11ea22110>"
      ]
     },
     "metadata": {},
     "output_type": "display_data"
    },
    {
     "data": {
      "image/png": "[encoded data removed]",
      "text/plain": [
       "<matplotlib.figure.Figure at 0x11ea1f790>"
      ]
     },
     "metadata": {},
     "output_type": "display_data"
    },
    {
     "data": {
      "image/png": "[encoded data removed]",
      "text/plain": [
       "<matplotlib.figure.Figure at 0x125d37dd0>"
      ]
     },
     "metadata": {},
     "output_type": "display_data"
    },
    {
     "data": {
      "image/png": "[encoded data removed]",
      "text/plain": [
       "<matplotlib.figure.Figure at 0x121898110>"
      ]
     },
     "metadata": {},
     "output_type": "display_data"
    },
    {
     "data": {
      "image/png": "[encoded data removed]",
      "text/plain": [
       "<matplotlib.figure.Figure at 0x121891d50>"
      ]
     },
     "metadata": {},
     "output_type": "display_data"
    },
    {
     "data": {
      "image/png": "[encoded data removed]",
      "text/plain": [
       "<matplotlib.figure.Figure at 0x112a4db10>"
      ]
     },
     "metadata": {},
     "output_type": "display_data"
    },
    {
     "data": {
      "image/png": "[encoded data removed]",
      "text/plain": [
       "<matplotlib.figure.Figure at 0x12528c310>"
      ]
     },
     "metadata": {},
     "output_type": "display_data"
    },
    {
     "data": {
      "image/png": "[encoded data removed]",
      "text/plain": [
       "<matplotlib.figure.Figure at 0x10ca39f50>"
      ]
     },
     "metadata": {},
     "output_type": "display_data"
    },
    {
     "data": {
      "image/png": "[encoded data removed]",
      "text/plain": [
       "<matplotlib.figure.Figure at 0x11f0814d0>"
      ]
     },
     "metadata": {},
     "output_type": "display_data"
    },
    {
     "data": {
      "image/png": "[encoded data removed]",
      "text/plain": [
       "<matplotlib.figure.Figure at 0x1171c1b90>"
      ]
     },
     "metadata": {},
     "output_type": "display_data"
    },
    {
     "data": {
      "image/png": "[encoded data removed]",
      "text/plain": [
       "<matplotlib.figure.Figure at 0x121ca3190>"
      ]
     },
     "metadata": {},
     "output_type": "display_data"
    },
    {
     "data": {
      "image/png": "[encoded data removed]",
      "text/plain": [
       "<matplotlib.figure.Figure at 0x125da4590>"
      ]
     },
     "metadata": {},
     "output_type": "display_data"
    },
    {
     "data": {
      "image/png": "[encoded data removed]",
      "text/plain": [
       "<matplotlib.figure.Figure at 0x123a67f50>"
      ]
     },
     "metadata": {},
     "output_type": "display_data"
    },
    {
     "data": {
      "image/png": "[encoded data removed]",
      "text/plain": [
       "<matplotlib.figure.Figure at 0x12581da10>"
      ]
     },
     "metadata": {},
     "output_type": "display_data"
    },
    {
     "data": {
      "image/png": "[encoded data removed]",
      "text/plain": [
       "<matplotlib.figure.Figure at 0x11f713e50>"
      ]
     },
     "metadata": {},
     "output_type": "display_data"
    },
    {
     "data": {
      "image/png": "[encoded data removed]",
      "text/plain": [
       "<matplotlib.figure.Figure at 0x11523da90>"
      ]
     },
     "metadata": {},
     "output_type": "display_data"
    },
    {
     "data": {
      "image/png": "[encoded data removed]",
      "text/plain": [
       "<matplotlib.figure.Figure at 0x10cedb0d0>"
      ]
     },
     "metadata": {},
     "output_type": "display_data"
    },
    {
     "data": {
      "image/png": "[encoded data removed]",
      "text/plain": [
       "<matplotlib.figure.Figure at 0x11826d690>"
      ]
     },
     "metadata": {},
     "output_type": "display_data"
    },
    {
     "data": {
      "image/png": "[encoded data removed]",
      "text/plain": [
       "<matplotlib.figure.Figure at 0x11ada0d90>"
      ]
     },
     "metadata": {},
     "output_type": "display_data"
    },
    {
     "data": {
      "image/png": "[encoded data removed]",
      "text/plain": [
       "<matplotlib.figure.Figure at 0x11d34c850>"
      ]
     },
     "metadata": {},
     "output_type": "display_data"
    },
    {
     "data": {
      "image/png": "[encoded data removed]",
      "text/plain": [
       "<matplotlib.figure.Figure at 0x120470d50>"
      ]
     },
     "metadata": {},
     "output_type": "display_data"
    },
    {
     "data": {
      "image/png": "[encoded data removed]",
      "text/plain": [
       "<matplotlib.figure.Figure at 0x1216f9110>"
      ]
     },
     "metadata": {},
     "output_type": "display_data"
    },
    {
     "data": {
      "image/png": "[encoded data removed]",
      "text/plain": [
       "<matplotlib.figure.Figure at 0x122472cd0>"
      ]
     },
     "metadata": {},
     "output_type": "display_data"
    },
    {
     "data": {
      "image/png": "[encoded data removed]",
      "text/plain": [
       "<matplotlib.figure.Figure at 0x11f44cbd0>"
      ]
     },
     "metadata": {},
     "output_type": "display_data"
    },
    {
     "data": {
      "image/png": "[encoded data removed]",
      "text/plain": [
       "<matplotlib.figure.Figure at 0x1226bc710>"
      ]
     },
     "metadata": {},
     "output_type": "display_data"
    },
    {
     "data": {
      "image/png": "[encoded data removed]",
      "text/plain": [
       "<matplotlib.figure.Figure at 0x1216afb50>"
      ]
     },
     "metadata": {},
     "output_type": "display_data"
    },
    {
     "data": {
      "image/png": "[encoded data removed]",
      "text/plain": [
       "<matplotlib.figure.Figure at 0x1216d8390>"
      ]
     },
     "metadata": {},
     "output_type": "display_data"
    },
    {
     "data": {
      "image/png": "[encoded data removed]",
      "text/plain": [
       "<matplotlib.figure.Figure at 0x119b40fd0>"
      ]
     },
     "metadata": {},
     "output_type": "display_data"
    },
    {
     "data": {
      "image/png": "[encoded data removed]",
      "text/plain": [
       "<matplotlib.figure.Figure at 0x118b2a990>"
      ]
     },
     "metadata": {},
     "output_type": "display_data"
    },
    {
     "data": {
      "image/png": "[encoded data removed]",
      "text/plain": [
       "<matplotlib.figure.Figure at 0x11c7a2550>"
      ]
     },
     "metadata": {},
     "output_type": "display_data"
    },
    {
     "data": {
      "image/png": "[encoded data removed]",
      "text/plain": [
       "<matplotlib.figure.Figure at 0x1200d05d0>"
      ]
     },
     "metadata": {},
     "output_type": "display_data"
    },
    {
     "data": {
      "image/png": "[encoded data removed]",
      "text/plain": [
       "<matplotlib.figure.Figure at 0x11fc41490>"
      ]
     },
     "metadata": {},
     "output_type": "display_data"
    },
    {
     "data": {
      "image/png": "[encoded data removed]",
      "text/plain": [
       "<matplotlib.figure.Figure at 0x1170ec910>"
      ]
     },
     "metadata": {},
     "output_type": "display_data"
    },
    {
     "data": {
      "image/png": "[encoded data removed]",
      "text/plain": [
       "<matplotlib.figure.Figure at 0x115ea7090>"
      ]
     },
     "metadata": {},
     "output_type": "display_data"
    },
    {
     "data": {
      "image/png": "[encoded data removed]",
      "text/plain": [
       "<matplotlib.figure.Figure at 0x118bca550>"
      ]
     },
     "metadata": {},
     "output_type": "display_data"
    },
    {
     "data": {
      "image/png": "[encoded data removed]",
      "text/plain": [
       "<matplotlib.figure.Figure at 0x117579610>"
      ]
     },
     "metadata": {},
     "output_type": "display_data"
    },
    {
     "data": {
      "image/png": "[encoded data removed]",
      "text/plain": [
       "<matplotlib.figure.Figure at 0x1199cc450>"
      ]
     },
     "metadata": {},
     "output_type": "display_data"
    },
    {
     "data": {
      "image/png": "[encoded data removed]",
      "text/plain": [
       "<matplotlib.figure.Figure at 0x11e5c6710>"
      ]
     },
     "metadata": {},
     "output_type": "display_data"
    },
    {
     "data": {
      "image/png": "[encoded data removed]",
      "text/plain": [
       "<matplotlib.figure.Figure at 0x122035490>"
      ]
     },
     "metadata": {},
     "output_type": "display_data"
    },
    {
     "data": {
      "image/png": "[encoded data removed]",
      "text/plain": [
       "<matplotlib.figure.Figure at 0x121865ad0>"
      ]
     },
     "metadata": {},
     "output_type": "display_data"
    },
    {
     "data": {
      "image/png": "[encoded data removed]",
      "text/plain": [
       "<matplotlib.figure.Figure at 0x116a49090>"
      ]
     },
     "metadata": {},
     "output_type": "display_data"
    },
    {
     "data": {
      "image/png": "[encoded data removed]",
      "text/plain": [
       "<matplotlib.figure.Figure at 0x11a1aae50>"
      ]
     },
     "metadata": {},
     "output_type": "display_data"
    },
    {
     "data": {
      "image/png": "[encoded data removed]",
      "text/plain": [
       "<matplotlib.figure.Figure at 0x1173f1050>"
      ]
     },
     "metadata": {},
     "output_type": "display_data"
    },
    {
     "data": {
      "image/png": "[encoded data removed]",
      "text/plain": [
       "<matplotlib.figure.Figure at 0x117344d50>"
      ]
     },
     "metadata": {},
     "output_type": "display_data"
    },
    {
     "data": {
      "image/png": "[encoded data removed]",
      "text/plain": [
       "<matplotlib.figure.Figure at 0x10cb90690>"
      ]
     },
     "metadata": {},
     "output_type": "display_data"
    },
    {
     "data": {
      "image/png": "[encoded data removed]",
      "text/plain": [
       "<matplotlib.figure.Figure at 0x123298690>"
      ]
     },
     "metadata": {},
     "output_type": "display_data"
    },
    {
     "data": {
      "image/png": "[encoded data removed]",
      "text/plain": [
       "<matplotlib.figure.Figure at 0x12441f990>"
      ]
     },
     "metadata": {},
     "output_type": "display_data"
    },
    {
     "data": {
      "image/png": "[encoded data removed]",
      "text/plain": [
       "<matplotlib.figure.Figure at 0x114efa990>"
      ]
     },
     "metadata": {},
     "output_type": "display_data"
    },
    {
     "data": {
      "image/png": "[encoded data removed]",
      "text/plain": [
       "<matplotlib.figure.Figure at 0x11898bfd0>"
      ]
     },
     "metadata": {},
     "output_type": "display_data"
    },
    {
     "data": {
      "image/png": "[encoded data removed]",
      "text/plain": [
       "<matplotlib.figure.Figure at 0x11767b390>"
      ]
     },
     "metadata": {},
     "output_type": "display_data"
    },
    {
     "data": {
      "image/png": "[encoded data removed]",
      "text/plain": [
       "<matplotlib.figure.Figure at 0x118b75f10>"
      ]
     },
     "metadata": {},
     "output_type": "display_data"
    },
    {
     "data": {
      "image/png": "[encoded data removed]",
      "text/plain": [
       "<matplotlib.figure.Figure at 0x1170bf250>"
      ]
     },
     "metadata": {},
     "output_type": "display_data"
    }
   ],
   "source": [
    "for alias in set(df2.ALIAS):\n",
    "    sns.set(font_scale=2) \n",
    "    fish = df2[df2['ALIAS']==alias]\n",
    "    plt.figure(figsize=(1,10))\n",
    "    ax = heatmapper(fish, 'All repeats')\n",
    "    ax.set_xlabel('')\n",
    "    ax.set_ylabel('')\n",
    "    plt.savefig('../figures/heatmaps/heatmap_%s.png' % fish.ALIAS.values[0], format='png', transparent = False)"
   ]
  },
  {
   "cell_type": "markdown",
   "metadata": {},
   "source": [
    "They are made in the wrong orientation, moving them sideways using PIL with the 'image' program"
   ]
  },
  {
   "cell_type": "code",
   "execution_count": 24,
   "metadata": {
    "collapsed": true
   },
   "outputs": [],
   "source": [
    "from PIL import Image"
   ]
  },
  {
   "cell_type": "code",
   "execution_count": 25,
   "metadata": {
    "collapsed": false
   },
   "outputs": [],
   "source": [
    "for alias in set(df2.ALIAS):\n",
    "    im = Image.open(\"../figures/heatmaps/heatmap_%s.png\" % alias)\n",
    "    im.rotate(90).save('../figures/heatmaps/heatmap_%s.png' % alias , \"png\")"
   ]
  },
  {
   "cell_type": "markdown",
   "metadata": {},
   "source": [
    "# Function for adding heatmaps to the nodes of the phylogenetic tree."
   ]
  },
  {
   "cell_type": "code",
   "execution_count": 29,
   "metadata": {
    "collapsed": false
   },
   "outputs": [],
   "source": [
    "# Need this list of species in the frame for making the tree\n",
    "list_of_species = set(df2[df2['SPECIES']!='Salmo salar'].SPECIES)"
   ]
  },
  {
   "cell_type": "markdown",
   "metadata": {},
   "source": [
    "First, get a list of names in figure"
   ]
  },
  {
   "cell_type": "code",
   "execution_count": 31,
   "metadata": {
    "collapsed": false
   },
   "outputs": [],
   "source": [
    "from ete3 import Tree, faces, TreeStyle, TextFace, NodeStyle, CircleFace\n",
    "\n",
    "def make_a_cool_figure(tree, order, filename):\n",
    "    # Importing full phylogeny (courtesy Micha and Martin)\n",
    "    t = Tree(tree)\n",
    "\n",
    "    # Deleting missing data that I do not have a RepeatLandscape for.\n",
    "\n",
    "    fish_94 = t.search_nodes(name=\"fish_94\")[0]\n",
    "    fish_94.delete()\n",
    "    fish_107 = t.search_nodes(name=\"fish_107\")[0]\n",
    "    fish_107.delete()\n",
    "\n",
    "    # Include only this order:\n",
    "\n",
    "    #exclude = set(fam_plot[fam_plot['ORDER']!=order].ALIAS)\n",
    "    \n",
    "    mylist = list_of_species\n",
    "    \n",
    "    exclude = set(df2[~df2['SPECIES'].isin(mylist)].ALIAS)\n",
    "    \n",
    "    # For every node label, get the names\n",
    "    fish = []\n",
    "    for node in t.traverse():\n",
    "        if 'fish' in node.name:\n",
    "            fish.append(node.name)\n",
    "\n",
    "    # For every element not being the chosen order, and if it actually is in the phylogeny, delete the node.\n",
    "    for element in exclude:\n",
    "        if element in fish:\n",
    "            delfish = t.search_nodes(name=element)[0]\n",
    "            delfish.delete(preserve_branch_length = True)\n",
    "            \n",
    "            \n",
    "    def mylayout(node): \n",
    "        if node.is_leaf():\n",
    "            for i in fish:\n",
    "                if node.search_nodes(name = i):\n",
    "                    if i in set(df2.ALIAS):\n",
    "                        faces.add_face_to_node(faces.TextFace('%s' \\\n",
    "                        % df2[df2['ALIAS']==i].SPECIES.unique()[0], \n",
    "                        fsize = 36,fstyle = 'italic'), node, column=0)\n",
    "\n",
    "                        faces.add_face_to_node(faces.ImgFace('../figures/heatmaps/heatmap_%s.png' % i), \n",
    "                                               node, column=2, aligned = True)\n",
    " \n",
    "    for n in t.traverse():\n",
    "        nstyle = NodeStyle()\n",
    "        nstyle[\"fgcolor\"] = \"White\"\n",
    "        nstyle[\"size\"] = 0.1\n",
    "        n.set_style(nstyle)\n",
    "    \n",
    "    # Coloring Acanthomorphata\n",
    "    n = t.get_common_ancestor(set(df2[(df2['SPECIES']=='Polymixia japonica') |\n",
    "                                           (df2['SPECIES']=='Gadus morhua')].ALIAS))\n",
    "    nstyle = NodeStyle()\n",
    "    #nstyle['bgcolor'] = 'Bisque'\n",
    "    nstyle['bgcolor'] = 'Seashell'\n",
    "    n.set_style(nstyle)\n",
    "\n",
    "    # Coloring Gadiformes\n",
    "    n = t.get_common_ancestor(set(df2[df2['ORDER']=='Gadiformes'].ALIAS))\n",
    "    nstyle = NodeStyle()\n",
    "    #nstyle['bgcolor'] = 'BlanchedAlmond'\n",
    "    nstyle['bgcolor'] = 'WhiteSmoke'\n",
    "    n.set_style(nstyle)\n",
    "    \n",
    "    \n",
    "    # Coloring Acanthopterygii\n",
    "    n = t.get_common_ancestor(set(df2[(df2['SPECIES']=='Monocentris japonica') |\n",
    "                                           (df2['SPECIES']=='Xiphophorus maculatus')].ALIAS))\n",
    "    nstyle = NodeStyle()\n",
    "    #nstyle['bgcolor'] = 'Plum'\n",
    "    nstyle['bgcolor'] = 'Ivory'\n",
    "    n.set_style(nstyle)\n",
    "\n",
    "    # Coloring Percomorphaceae\n",
    "    n = t.get_common_ancestor(set(df2[(df2['SPECIES']=='Chatrabus melanurus') |\n",
    "                                           (df2['SPECIES']=='Xiphophorus maculatus')].ALIAS))\n",
    "    nstyle = NodeStyle()\n",
    "    #nstyle['bgcolor'] = 'Thistle'\n",
    "    nstyle['bgcolor'] = 'Snow'\n",
    "    n.set_style(nstyle)\n",
    "    \n",
    "    # Coloring Lampridacea\n",
    "    n = t.get_common_ancestor(set(df2[(df2['SPECIES']=='Regalecus glesne') |\n",
    "                                           (df2['SPECIES']=='Lampris guttauts')].ALIAS))\n",
    "    nstyle = NodeStyle()\n",
    "    #nstyle['bgcolor'] = 'Khaki'\n",
    "    nstyle['bgcolor'] = 'Snow'\n",
    "    n.set_style(nstyle)\n",
    "    \n",
    "    # Coloring the rest\n",
    "    n = t.get_common_ancestor(set(df2[(df2['SPECIES']=='Benthosema glaciale') |\n",
    "                                           (df2['SPECIES']=='Danio rerio')].ALIAS))\n",
    "    nstyle = NodeStyle()\n",
    "    #nstyle['bgcolor'] = 'LavenderBlush'\n",
    "    \n",
    "    nstyle['bgcolor'] = 'Linen'\n",
    "\n",
    "    n.set_style(nstyle)\n",
    "    \n",
    "    # Display the tree\n",
    "    ts = TreeStyle()\n",
    "    ts.complete_branch_lines_when_necessary = True\n",
    "    ts.show_leaf_name = False\n",
    "    ts.show_branch_length = False\n",
    "    ts.show_scale = False\n",
    "    ts.layout_fn = mylayout\n",
    "    ts.scale = None\n",
    "    #ts.mode = 'c'\n",
    "    ts.tree_width = 500\n",
    "\n",
    "    \n",
    "    t.render(filename, tree_style = ts)\n",
    "    return \"Done\""
   ]
  },
  {
   "cell_type": "code",
   "execution_count": 32,
   "metadata": {
    "collapsed": false
   },
   "outputs": [
    {
     "data": {
      "text/plain": [
       "'Done'"
      ]
     },
     "execution_count": 32,
     "metadata": {},
     "output_type": "execute_result"
    }
   ],
   "source": [
    "# Parameters: .tre-file, title (not shown) in figure, filename\"\n",
    "make_a_cool_figure('../phylogeny/final_tree.tre', 'Heatmap_top30_families_scale1'\\\n",
    "                   , '../figures/%s_tree.pdf' % '3.may_test_Heatmap_top30_families_scale1') "
   ]
  },
  {
   "cell_type": "markdown",
   "metadata": {},
   "source": [
    "# Barplot-tree"
   ]
  },
  {
   "cell_type": "code",
   "execution_count": 50,
   "metadata": {
    "collapsed": false
   },
   "outputs": [],
   "source": [
    "classes = pd.read_csv(\"../ipython_data/class.tab\", sep = \"\\t\", index_col = False,\n",
    "                      names = [\"ALIAS\",\"CLASS\", \"MASKED_BP\", \"DOUBLE_BP_CLASS\",\n",
    "                               \"DOUBLE_BP_CLASS_FAMILY\", \"MASKED_PERC\", \"DOUBLE_PERC_CLASS\",\n",
    "                               \"DOUBLE_PERC_CLASS_FAMILY\"])\n",
    "classes = pd.merge(annot, classes)\n",
    "\n",
    "# I only care about DNA transposons, LTR retrotransposons, LINEs and SINEs.\n",
    "classes = classes[(classes['CLASS']=='DNA') | (classes['CLASS']=='LTR')\\\n",
    "                  | (classes['CLASS']=='LINE') | (classes['CLASS']=='SINE')]\n",
    "classes = pd.merge(alias74, classes)"
   ]
  },
  {
   "cell_type": "code",
   "execution_count": 51,
   "metadata": {
    "collapsed": false
   },
   "outputs": [
    {
     "data": {
      "text/html": [
       "<div>\n",
       "<table border=\"1\" class=\"dataframe\">\n",
       "  <thead>\n",
       "    <tr style=\"text-align: right;\">\n",
       "      <th></th>\n",
       "      <th>ALIAS</th>\n",
       "      <th>ORDER</th>\n",
       "      <th>SPECIES</th>\n",
       "      <th>COMMON_NAME</th>\n",
       "      <th>CLASS</th>\n",
       "      <th>MASKED_BP</th>\n",
       "      <th>DOUBLE_BP_CLASS</th>\n",
       "      <th>DOUBLE_BP_CLASS_FAMILY</th>\n",
       "      <th>MASKED_PERC</th>\n",
       "      <th>DOUBLE_PERC_CLASS</th>\n",
       "      <th>DOUBLE_PERC_CLASS_FAMILY</th>\n",
       "    </tr>\n",
       "  </thead>\n",
       "  <tbody>\n",
       "    <tr>\n",
       "      <th>0</th>\n",
       "      <td>fish_123</td>\n",
       "      <td>Characiformes</td>\n",
       "      <td>Astyanax mexicanus</td>\n",
       "      <td>Blind cave fish</td>\n",
       "      <td>DNA</td>\n",
       "      <td>178965922</td>\n",
       "      <td>7193060</td>\n",
       "      <td>3525154</td>\n",
       "      <td>15.023466</td>\n",
       "      <td>0.603828</td>\n",
       "      <td>0.295922</td>\n",
       "    </tr>\n",
       "    <tr>\n",
       "      <th>1</th>\n",
       "      <td>fish_123</td>\n",
       "      <td>Characiformes</td>\n",
       "      <td>Astyanax mexicanus</td>\n",
       "      <td>Blind cave fish</td>\n",
       "      <td>LINE</td>\n",
       "      <td>11166062</td>\n",
       "      <td>175996</td>\n",
       "      <td>97731</td>\n",
       "      <td>0.937346</td>\n",
       "      <td>0.014774</td>\n",
       "      <td>0.008204</td>\n",
       "    </tr>\n",
       "    <tr>\n",
       "      <th>2</th>\n",
       "      <td>fish_123</td>\n",
       "      <td>Characiformes</td>\n",
       "      <td>Astyanax mexicanus</td>\n",
       "      <td>Blind cave fish</td>\n",
       "      <td>LTR</td>\n",
       "      <td>8384981</td>\n",
       "      <td>140659</td>\n",
       "      <td>79026</td>\n",
       "      <td>0.703885</td>\n",
       "      <td>0.011808</td>\n",
       "      <td>0.006634</td>\n",
       "    </tr>\n",
       "    <tr>\n",
       "      <th>3</th>\n",
       "      <td>fish_123</td>\n",
       "      <td>Characiformes</td>\n",
       "      <td>Astyanax mexicanus</td>\n",
       "      <td>Blind cave fish</td>\n",
       "      <td>SINE</td>\n",
       "      <td>1420579</td>\n",
       "      <td>48681</td>\n",
       "      <td>25932</td>\n",
       "      <td>0.119252</td>\n",
       "      <td>0.004087</td>\n",
       "      <td>0.002177</td>\n",
       "    </tr>\n",
       "    <tr>\n",
       "      <th>4</th>\n",
       "      <td>fish_109</td>\n",
       "      <td>Cypriniformes</td>\n",
       "      <td>Danio rerio</td>\n",
       "      <td>Zebrafish</td>\n",
       "      <td>DNA</td>\n",
       "      <td>555643193</td>\n",
       "      <td>29532202</td>\n",
       "      <td>8086692</td>\n",
       "      <td>39.336925</td>\n",
       "      <td>2.090741</td>\n",
       "      <td>0.572500</td>\n",
       "    </tr>\n",
       "  </tbody>\n",
       "</table>\n",
       "</div>"
      ],
      "text/plain": [
       "      ALIAS          ORDER             SPECIES      COMMON_NAME CLASS  \\\n",
       "0  fish_123  Characiformes  Astyanax mexicanus  Blind cave fish   DNA   \n",
       "1  fish_123  Characiformes  Astyanax mexicanus  Blind cave fish  LINE   \n",
       "2  fish_123  Characiformes  Astyanax mexicanus  Blind cave fish   LTR   \n",
       "3  fish_123  Characiformes  Astyanax mexicanus  Blind cave fish  SINE   \n",
       "4  fish_109  Cypriniformes         Danio rerio        Zebrafish   DNA   \n",
       "\n",
       "   MASKED_BP  DOUBLE_BP_CLASS  DOUBLE_BP_CLASS_FAMILY  MASKED_PERC  \\\n",
       "0  178965922          7193060                 3525154    15.023466   \n",
       "1   11166062           175996                   97731     0.937346   \n",
       "2    8384981           140659                   79026     0.703885   \n",
       "3    1420579            48681                   25932     0.119252   \n",
       "4  555643193         29532202                 8086692    39.336925   \n",
       "\n",
       "   DOUBLE_PERC_CLASS  DOUBLE_PERC_CLASS_FAMILY  \n",
       "0           0.603828                  0.295922  \n",
       "1           0.014774                  0.008204  \n",
       "2           0.011808                  0.006634  \n",
       "3           0.004087                  0.002177  \n",
       "4           2.090741                  0.572500  "
      ]
     },
     "execution_count": 51,
     "metadata": {},
     "output_type": "execute_result"
    }
   ],
   "source": [
    "classes.head()"
   ]
  },
  {
   "cell_type": "markdown",
   "metadata": {},
   "source": [
    "I want the relative fraction of all DNA transposons and retrotransposons for each fish"
   ]
  },
  {
   "cell_type": "code",
   "execution_count": 52,
   "metadata": {
    "collapsed": false
   },
   "outputs": [
    {
     "name": "stderr",
     "output_type": "stream",
     "text": [
      "/Users/williambrynildsen/.local/lib/python2.7/site-packages/ipykernel/__main__.py:3: SettingWithCopyWarning: \n",
      "A value is trying to be set on a copy of a slice from a DataFrame.\n",
      "Try using .loc[row_indexer,col_indexer] = value instead\n",
      "\n",
      "See the caveats in the documentation: http://pandas.pydata.org/pandas-docs/stable/indexing.html#indexing-view-versus-copy\n",
      "  app.launch_new_instance()\n",
      "/Users/williambrynildsen/.local/lib/python2.7/site-packages/ipykernel/__main__.py:4: SettingWithCopyWarning: \n",
      "A value is trying to be set on a copy of a slice from a DataFrame.\n",
      "Try using .loc[row_indexer,col_indexer] = value instead\n",
      "\n",
      "See the caveats in the documentation: http://pandas.pydata.org/pandas-docs/stable/indexing.html#indexing-view-versus-copy\n"
     ]
    },
    {
     "name": "stdout",
     "output_type": "stream",
     "text": [
      "Stylephorus chordatus \tDNA  \t 8.9656997452 \t0.466568358289\n",
      "Stylephorus chordatus \tLTR  \t 3.22746291716 \t0.167954774027\n",
      "Stylephorus chordatus \tLINE \t 6.45279313353 \t0.335798563887\n",
      "Stylephorus chordatus \tSINE \t 0.57030605712 \t0.0296783037972\n",
      "Selene dorsalis \tDNA  \t 3.98308382261 \t0.638646682318\n",
      "Selene dorsalis \tLTR  \t 0.645858791079 \t0.103556840011\n",
      "Selene dorsalis \tLINE \t 1.29458782194 \t0.207573893564\n",
      "Selene dorsalis \tSINE \t 0.313226025952 \t0.0502225841078\n",
      "Chromis chromis \tDNA  \t 11.6245137407 \t0.680245042429\n",
      "Chromis chromis \tLTR  \t 0.801370333202 \t0.046894709617\n",
      "Chromis chromis \tLINE \t 3.19957219925 \t0.187233046902\n",
      "Chromis chromis \tSINE \t 1.46325884517 \t0.0856272010524\n",
      "Rondeletia loricata \tDNA  \t 7.8602700558 \t0.599741189933\n",
      "Rondeletia loricata \tLTR  \t 1.27224461485 \t0.0970726824625\n",
      "Rondeletia loricata \tLINE \t 3.24214383662 \t0.247376640842\n",
      "Rondeletia loricata \tSINE \t 0.731444904893 \t0.0558094867628\n",
      "Arctogadus glacialis \tDNA  \t 8.13965151753 \t0.610534179417\n",
      "Arctogadus glacialis \tLTR  \t 2.27503696514 \t0.170644630629\n",
      "Arctogadus glacialis \tLINE \t 2.46612805226 \t0.184977878166\n",
      "Arctogadus glacialis \tSINE \t 0.451199578082 \t0.0338433117885\n",
      "Bregmaceros cantori \tDNA  \t 11.0816024676 \t0.558081095231\n",
      "Bregmaceros cantori \tLTR  \t 3.13785861607 \t0.158025843126\n",
      "Bregmaceros cantori \tLINE \t 4.87060230186 \t0.245288628156\n",
      "Bregmaceros cantori \tSINE \t 0.766553443667 \t0.0386044334873\n",
      "Trachyrincus scabrus \tDNA  \t 6.50961005352 \t0.626887240969\n",
      "Trachyrincus scabrus \tLTR  \t 1.98822218563 \t0.191469398341\n",
      "Trachyrincus scabrus \tLINE \t 1.73569653438 \t0.16715072065\n",
      "Trachyrincus scabrus \tSINE \t 0.150491873409 \t0.0144926400404\n",
      "Trisopterus minutus \tDNA  \t 6.45633895505 \t0.568263756371\n",
      "Trisopterus minutus \tLTR  \t 2.53330714286 \t0.222972592217\n",
      "Trisopterus minutus \tLINE \t 2.17381818076 \t0.191331665463\n",
      "Trisopterus minutus \tSINE \t 0.198053823914 \t0.0174319859482\n",
      "Lampris guttauts \tDNA  \t 10.8896656943 \t0.333921706031\n",
      "Lampris guttauts \tLTR  \t 7.81096189519 \t0.239516050813\n",
      "Lampris guttauts \tLINE \t 13.072511761 \t0.400856697703\n",
      "Lampris guttauts \tSINE \t 0.838294700273 \t0.0257055454528\n",
      "Gadus morhua \tDNA  \t 6.56496481 \t0.583623574095\n",
      "Gadus morhua \tLTR  \t 2.73694308482 \t0.243313490855\n",
      "Gadus morhua \tLINE \t 1.78737622837 \t0.158897257311\n",
      "Gadus morhua \tSINE \t 0.159344447336 \t0.014165677739\n",
      "Beryx splendens \tDNA  \t 6.066212727 \t0.587646047014\n",
      "Beryx splendens \tLTR  \t 1.32307449491 \t0.128168847983\n",
      "Beryx splendens \tLINE \t 2.23491056925 \t0.2165002153\n",
      "Beryx splendens \tSINE \t 0.698704503207 \t0.0676848897028\n",
      "Chatrabus melanurus \tDNA  \t 15.2658599787 \t0.527732029898\n",
      "Chatrabus melanurus \tLTR  \t 2.28911019404 \t0.0791332274139\n",
      "Chatrabus melanurus \tLINE \t 8.92317925742 \t0.308469192646\n",
      "Chatrabus melanurus \tSINE \t 2.44914532138 \t0.0846655500427\n",
      "Chaenocephalus aceratus \tDNA  \t 10.8902033334 \t0.627855682454\n",
      "Chaenocephalus aceratus \tLTR  \t 2.20605915992 \t0.127186493859\n",
      "Chaenocephalus aceratus \tLINE \t 3.97808800495 \t0.229349726791\n",
      "Chaenocephalus aceratus \tSINE \t 0.270723597154 \t0.0156080968963\n",
      "Molva molva \tDNA  \t 7.208480703 \t0.67102513642\n",
      "Molva molva \tLTR  \t 1.93063546891 \t0.179719552882\n",
      "Molva molva \tLINE \t 1.38567029869 \t0.128989677509\n",
      "Molva molva \tSINE \t 0.21770335842 \t0.0202656331898\n",
      "Percopsis transmontana \tDNA  \t 7.34796063912 \t0.582435551626\n",
      "Percopsis transmontana \tLTR  \t 2.48645524034 \t0.197088689042\n",
      "Percopsis transmontana \tLINE \t 2.71116107747 \t0.214899980451\n",
      "Percopsis transmontana \tSINE \t 0.070343583308 \t0.00557577888063\n",
      "Benthosema glaciale \tDNA  \t 5.82922418876 \t0.483949766846\n",
      "Benthosema glaciale \tLTR  \t 1.22062644974 \t0.101337993982\n",
      "Benthosema glaciale \tLINE \t 3.74183977864 \t0.310652400698\n",
      "Benthosema glaciale \tSINE \t 1.25341134362 \t0.104059838474\n",
      "Lota lota \tDNA  \t 6.88484289103 \t0.664742779509\n",
      "Lota lota \tLTR  \t 2.00351274171 \t0.193442413979\n",
      "Lota lota \tLINE \t 1.19884544973 \t0.115750478126\n",
      "Lota lota \tSINE \t 0.269952245488 \t0.0260643283864\n",
      "Helostoma temminckii \tDNA  \t 6.09139849915 \t0.595058295931\n",
      "Helostoma temminckii \tLTR  \t 0.641421536067 \t0.0626593722736\n",
      "Helostoma temminckii \tLINE \t 2.82854281516 \t0.27631550748\n",
      "Helostoma temminckii \tSINE \t 0.675278737184 \t0.0659668243151\n",
      "Melanogrammus aeglefinus \tDNA  \t 7.37285331713 \t0.589531663908\n",
      "Melanogrammus aeglefinus \tLTR  \t 2.72015380829 \t0.217502875984\n",
      "Melanogrammus aeglefinus \tLINE \t 2.23086661745 \t0.178379584182\n",
      "Melanogrammus aeglefinus \tSINE \t 0.182415178502 \t0.014585875926\n",
      "Polymixia japonica \tDNA  \t 6.64959817918 \t0.573375482471\n",
      "Polymixia japonica \tLTR  \t 1.73209417669 \t0.149353435724\n",
      "Polymixia japonica \tLINE \t 2.71438113211 \t0.234053178748\n",
      "Polymixia japonica \tSINE \t 0.501210285865 \t0.0432179030572\n",
      "Pseudochromis fuscus \tDNA  \t 8.65450518898 \t0.730007569441\n",
      "Pseudochromis fuscus \tLTR  \t 0.756418593603 \t0.0638039133305\n",
      "Pseudochromis fuscus \tLINE \t 2.04085261655 \t0.172145931589\n",
      "Pseudochromis fuscus \tSINE \t 0.403587231696 \t0.0340425856401\n",
      "Antennarius striatus \tDNA  \t 5.88095241673 \t0.488398524036\n",
      "Antennarius striatus \tLTR  \t 0.927901347724 \t0.0770599074038\n",
      "Antennarius striatus \tLINE \t 4.54679382293 \t0.377599959132\n",
      "Antennarius striatus \tSINE \t 0.685650916406 \t0.0569416094278\n",
      "Laemonema laureysi \tDNA  \t 6.04136755878 \t0.623003703877\n",
      "Laemonema laureysi \tLTR  \t 1.88379533797 \t0.194262550901\n",
      "Laemonema laureysi \tLINE \t 1.61377114571 \t0.166416856979\n",
      "Laemonema laureysi \tSINE \t 0.158227501181 \t0.0163168882429\n",
      "Phycis phycis \tDNA  \t 5.78614622681 \t0.465246848843\n",
      "Phycis phycis \tLTR  \t 2.36276036008 \t0.189982549526\n",
      "Phycis phycis \tLINE \t 3.85988720467 \t0.310362076669\n",
      "Phycis phycis \tSINE \t 0.42792929683 \t0.0344085249618\n",
      "Oreochromis niloticus \tDNA  \t 8.82882542565 \t0.538695183901\n",
      "Oreochromis niloticus \tLTR  \t 1.63088305717 \t0.0995091426146\n",
      "Oreochromis niloticus \tLINE \t 5.29339580695 \t0.32297918355\n",
      "Oreochromis niloticus \tSINE \t 0.636174266091 \t0.0388164899341\n",
      "Guentherus altivela \tDNA  \t 13.8948629416 \t0.414731201718\n",
      "Guentherus altivela \tLTR  \t 6.85819396613 \t0.204702056949\n",
      "Guentherus altivela \tLINE \t 9.91431476418 \t0.295920563853\n",
      "Guentherus altivela \tSINE \t 2.83592608838 \t0.0846461774799\n",
      "Merluccius polli \tDNA  \t 8.72690168231 \t0.598859894313\n",
      "Merluccius polli \tLTR  \t 2.46862259165 \t0.169402511699\n",
      "Merluccius polli \tLINE \t 3.03897282808 \t0.208541245553\n",
      "Merluccius polli \tSINE \t 0.338029402372 \t0.0231963484348\n",
      "Melanonus zugmayeri \tDNA  \t 8.79455921624 \t0.54493738765\n",
      "Melanonus zugmayeri \tLTR  \t 3.14262719094 \t0.194726649703\n",
      "Melanonus zugmayeri \tLINE \t 3.87181838485 \t0.239909533181\n",
      "Melanonus zugmayeri \tSINE \t 0.329655200019 \t0.020426429467\n",
      "Pollachius virens \tDNA  \t 7.46005488358 \t0.604832039133\n",
      "Pollachius virens \tLTR  \t 2.31798743416 \t0.187933344776\n",
      "Pollachius virens \tLINE \t 2.26624634931 \t0.183738380216\n",
      "Pollachius virens \tSINE \t 0.289804768662 \t0.0234962358744\n",
      "Cyttopsis roseus \tDNA  \t 9.64137563816 \t0.557450131606\n",
      "Cyttopsis roseus \tLTR  \t 2.77643608301 \t0.160529442888\n",
      "Cyttopsis roseus \tLINE \t 4.00198386056 \t0.231388809386\n",
      "Cyttopsis roseus \tSINE \t 0.875698833853 \t0.0506316161199\n",
      "Astyanax mexicanus \tDNA  \t 15.0234659344 \t0.895109134681\n",
      "Astyanax mexicanus \tLTR  \t 0.70388527048 \t0.0419380013991\n",
      "Astyanax mexicanus \tLINE \t 0.93734578183 \t0.0558477501354\n",
      "Astyanax mexicanus \tSINE \t 0.119251866361 \t0.00710511378493\n",
      "Malacocephalus occidentalis \tDNA  \t 8.23900704295 \t0.48842449549\n",
      "Malacocephalus occidentalis \tLTR  \t 2.89504768037 \t0.171624104134\n",
      "Malacocephalus occidentalis \tLINE \t 5.64471498602 \t0.334629774542\n",
      "Malacocephalus occidentalis \tSINE \t 0.0897680463079 \t0.00532162583434\n",
      "Perca fluviatilis \tDNA  \t 9.78100544935 \t0.675407895387\n",
      "Perca fluviatilis \tLTR  \t 0.869152430058 \t0.0600175939576\n",
      "Perca fluviatilis \tLINE \t 3.1071128279 \t0.214555502161\n",
      "Perca fluviatilis \tSINE \t 0.724356641373 \t0.0500190084949\n",
      "Regalecus glesne \tDNA  \t 6.05643147684 \t0.212525411914\n",
      "Regalecus glesne \tLTR  \t 4.00419734213 \t0.140510743459\n",
      "Regalecus glesne \tLINE \t 13.8772174652 \t0.48696354764\n",
      "Regalecus glesne \tSINE \t 4.55959984385 \t0.160000296987\n",
      "Bathygadus melanobranchus \tDNA  \t 9.28309886859 \t0.630693802082\n",
      "Bathygadus melanobranchus \tLTR  \t 2.10275623267 \t0.142861273159\n",
      "Bathygadus melanobranchus \tLINE \t 3.15901348943 \t0.214623398574\n",
      "Bathygadus melanobranchus \tSINE \t 0.173999484354 \t0.0118215261844\n",
      "Typhlichthys subterraneus \tDNA  \t 10.8948266838 \t0.586538109141\n",
      "Typhlichthys subterraneus \tLTR  \t 2.17382148292 \t0.117030695321\n",
      "Typhlichthys subterraneus \tLINE \t 5.45114372134 \t0.293469884722\n",
      "Typhlichthys subterraneus \tSINE \t 0.0550057491619 \t0.00296131081674\n",
      "Gadiculus argenteus \tDNA  \t 8.03632944688 \t0.58776769134\n",
      "Gadiculus argenteus \tLTR  \t 2.1256275355 \t0.15546589988\n",
      "Gadiculus argenteus \tLINE \t 3.28698632104 \t0.24040631661\n",
      "Gadiculus argenteus \tSINE \t 0.223685466897 \t0.0163600921706\n",
      "Thunnus albacares \tDNA  \t 7.02158725512 \t0.615820314316\n",
      "Thunnus albacares \tLTR  \t 0.876182337748 \t0.0768445741718\n",
      "Thunnus albacares \tLINE \t 3.28102813035 \t0.287758835872\n",
      "Thunnus albacares \tSINE \t 0.223208823 \t0.0195762756402\n",
      "Gasterosteus aculeatus \tDNA  \t 3.41732022195 \t0.398947584639\n",
      "Gasterosteus aculeatus \tLTR  \t 2.10301803851 \t0.245512247148\n",
      "Gasterosteus aculeatus \tLINE \t 2.76680094266 \t0.32300413235\n",
      "Gasterosteus aculeatus \tSINE \t 0.278698399429 \t0.0325360358625\n",
      "Poecilia formosa \tDNA  \t 9.65898095358 \t0.728064716569\n",
      "Poecilia formosa \tLTR  \t 1.08446989035 \t0.0817440542783\n",
      "Poecilia formosa \tLINE \t 2.11858170692 \t0.159692269546\n",
      "Poecilia formosa \tSINE \t 0.404619071953 \t0.0304989596062\n",
      "Macrourus berglax \tDNA  \t 7.88468003928 \t0.454027892737\n",
      "Macrourus berglax \tLTR  \t 2.88925770882 \t0.166373725068\n",
      "Macrourus berglax \tLINE \t 6.45023271717 \t0.371427319009\n",
      "Macrourus berglax \tSINE \t 0.141899252958 \t0.0081710631859\n",
      "Phycis blennoides \tDNA  \t 6.21897778273 \t0.552883281761\n",
      "Phycis blennoides \tLTR  \t 1.94446798869 \t0.172868255914\n",
      "Phycis blennoides \tLINE \t 2.73383341198 \t0.243044892812\n",
      "Phycis blennoides \tSINE \t 0.350986025346 \t0.0312035695133\n",
      "Lamprogrammus exutus \tDNA  \t 5.45211954352 \t0.575423525667\n",
      "Lamprogrammus exutus \tLTR  \t 1.52564793553 \t0.161018794063\n",
      "Lamprogrammus exutus \tLINE \t 2.22824022303 \t0.235171264117\n",
      "Lamprogrammus exutus \tSINE \t 0.268960387223 \t0.0283864161534\n",
      "Neoniphon sammara \tDNA  \t 4.95463581613 \t0.615286588233\n",
      "Neoniphon sammara \tLTR  \t 1.05564550252 \t0.131094301122\n",
      "Neoniphon sammara \tLINE \t 1.66279266223 \t0.206492275528\n",
      "Neoniphon sammara \tSINE \t 0.379491946746 \t0.0471268351177\n",
      "Lesueurigobius cf. sanzoi \tDNA  \t 11.6606908271 \t0.635293195938\n",
      "Lesueurigobius cf. sanzoi \tLTR  \t 0.726402997621 \t0.039575603945\n",
      "Lesueurigobius cf. sanzoi \tLINE \t 5.5902141471 \t0.304563860252\n",
      "Lesueurigobius cf. sanzoi \tSINE \t 0.377509774762 \t0.0205673398655\n",
      "Merluccius merluccius \tDNA  \t 9.41094454219 \t0.614303697082\n",
      "Merluccius merluccius \tLTR  \t 2.78356946946 \t0.181698766633\n",
      "Merluccius merluccius \tLINE \t 2.87761569092 \t0.187837676632\n",
      "Merluccius merluccius \tSINE \t 0.2475641018 \t0.0161598596527\n",
      "Mora moro \tDNA  \t 6.29423703358 \t0.615010529804\n",
      "Mora moro \tLTR  \t 1.75732301604 \t0.171708207582\n",
      "Mora moro \tLINE \t 1.95110601902 \t0.190642764176\n",
      "Mora moro \tSINE \t 0.231690464378 \t0.0226384984372\n",
      "Myripristis jacobus \tDNA  \t 7.22815092665 \t0.682987237473\n",
      "Myripristis jacobus \tLTR  \t 0.840804926394 \t0.0794475709983\n",
      "Myripristis jacobus \tLINE \t 2.17017695278 \t0.205059797014\n",
      "Myripristis jacobus \tSINE \t 0.344009206305 \t0.0325053945142\n",
      "Oryzias latipes \tDNA  \t 7.81663342291 \t0.528101104738\n",
      "Oryzias latipes \tLTR  \t 1.94902937225 \t0.131678755925\n",
      "Oryzias latipes \tLINE \t 4.63098975631 \t0.312875207781\n",
      "Oryzias latipes \tSINE \t 0.404743152473 \t0.027344931557\n",
      "Symphodus melops \tDNA  \t 5.03309123561 \t0.585531726366\n",
      "Symphodus melops \tLTR  \t 0.713777731638 \t0.0830383332794\n",
      "Symphodus melops \tLINE \t 1.83175090303 \t0.213099309811\n",
      "Symphodus melops \tSINE \t 1.01714191165 \t0.118330630543\n",
      "Takifugu rubripes \tDNA  \t 2.496064785 \t0.322307917255\n",
      "Takifugu rubripes \tLTR  \t 1.64591561936 \t0.212531196482\n",
      "Takifugu rubripes \tLINE \t 3.37268074615 \t0.43550220066\n",
      "Takifugu rubripes \tSINE \t 0.229687192705 \t0.0296586856022\n",
      "Holocentrus rufus \tDNA  \t 4.92507386772 \t0.62385898098\n",
      "Holocentrus rufus \tLTR  \t 0.98098229455 \t0.124261002185\n",
      "Holocentrus rufus \tLINE \t 1.65946403511 \t0.210204266925\n",
      "Holocentrus rufus \tSINE \t 0.32901048643 \t0.0416757499094\n",
      "Spondyliosoma cantharus \tDNA  \t 6.42950498938 \t0.65779926596\n",
      "Spondyliosoma cantharus \tLTR  \t 1.01514917293 \t0.103859376717\n",
      "Spondyliosoma cantharus \tLINE \t 2.0423396056 \t0.208950688369\n",
      "Spondyliosoma cantharus \tSINE \t 0.287272215799 \t0.0293906689544\n",
      "Zeus faber \tDNA  \t 8.91840183615 \t0.442687849628\n",
      "Zeus faber \tLTR  \t 4.33631118205 \t0.215243976193\n",
      "Zeus faber \tLINE \t 6.66899643213 \t0.331032817758\n",
      "Zeus faber \tSINE \t 0.222318600012 \t0.0110353564214\n",
      "Xiphophorus maculatus \tDNA  \t 9.99677447651 \t0.758677847964\n",
      "Xiphophorus maculatus \tLTR  \t 0.49340758097 \t0.0374458184066\n",
      "Xiphophorus maculatus \tLINE \t 2.13444675079 \t0.161987996357\n",
      "Xiphophorus maculatus \tSINE \t 0.551944757626 \t0.0418883372726\n",
      "Brosme brosme \tDNA  \t 5.97609180656 \t0.608645188129\n",
      "Brosme brosme \tLTR  \t 1.91674360736 \t0.19521399792\n",
      "Brosme brosme \tLINE \t 1.69154310101 \t0.172278071065\n",
      "Brosme brosme \tSINE \t 0.234300615575 \t0.0238627428864\n",
      "Sebastes norvegicus \tDNA  \t 10.5420603369 \t0.773745493819\n",
      "Sebastes norvegicus \tLTR  \t 0.75661711325 \t0.0555327007449\n",
      "Sebastes norvegicus \tLINE \t 1.9253640123 \t0.141314096189\n",
      "Sebastes norvegicus \tSINE \t 0.400671600334 \t0.0294077092477\n",
      "Myoxocephalus scorpius \tDNA  \t 5.67324946656 \t0.617692873496\n",
      "Myoxocephalus scorpius \tLTR  \t 1.0443696036 \t0.113709024297\n",
      "Myoxocephalus scorpius \tLINE \t 2.16691053293 \t0.23592919747\n",
      "Myoxocephalus scorpius \tSINE \t 0.300050161375 \t0.0326689047371\n",
      "Parasudis fraserbrunneri \tDNA  \t 7.70845349646 \t0.5764741804\n",
      "Parasudis fraserbrunneri \tLTR  \t 1.25069304746 \t0.0935326716052\n",
      "Parasudis fraserbrunneri \tLINE \t 3.41900844327 \t0.255689431222\n",
      "Parasudis fraserbrunneri \tSINE \t 0.993568775199 \t0.0743037167724\n",
      "Tetraodon nigroviridis \tDNA  \t 1.77467294846 \t0.390565419191\n",
      "Tetraodon nigroviridis \tLTR  \t 0.668278322905 \t0.147072959865\n",
      "Tetraodon nigroviridis \tLINE \t 1.95766642615 \t0.430838149097\n",
      "Tetraodon nigroviridis \tSINE \t 0.143238110645 \t0.031523471847\n",
      "Anabas testudineus \tDNA  \t 4.61277609232 \t0.572511269541\n",
      "Anabas testudineus \tLTR  \t 0.524589759755 \t0.0651090673675\n",
      "Anabas testudineus \tLINE \t 2.75911767749 \t0.342445835813\n",
      "Anabas testudineus \tSINE \t 0.160608684557 \t0.0199338272778\n",
      "Theragra chalcogramma \tDNA  \t 7.96351826465 \t0.623962729797\n",
      "Theragra chalcogramma \tLTR  \t 2.36902593622 \t0.185619451227\n",
      "Theragra chalcogramma \tLINE \t 2.24404878534 \t0.17582716073\n",
      "Theragra chalcogramma \tSINE \t 0.186217810586 \t0.0145906582453\n",
      "Boreogadus saida \tDNA  \t 8.00985377091 \t0.630002517052\n",
      "Boreogadus saida \tLTR  \t 2.13399640633 \t0.167846148734\n",
      "Boreogadus saida \tLINE \t 2.18218088324 \t0.171636023381\n",
      "Boreogadus saida \tSINE \t 0.387971747619 \t0.0305153108328\n",
      "Merluccius capensis \tDNA  \t 8.52306952384 \t0.618267713949\n",
      "Merluccius capensis \tLTR  \t 2.49672540248 \t0.181113705881\n",
      "Merluccius capensis \tLINE \t 2.50656423787 \t0.181827419908\n",
      "Merluccius capensis \tSINE \t 0.259043714775 \t0.018791160262\n",
      "Osmerus eperlanus \tDNA  \t 6.93312819057 \t0.66106730077\n",
      "Osmerus eperlanus \tLTR  \t 2.07738757371 \t0.198076965874\n",
      "Osmerus eperlanus \tLINE \t 1.36727838 \t0.130368717154\n",
      "Osmerus eperlanus \tSINE \t 0.109985515216 \t0.0104870162023\n",
      "Brotula barbata \tDNA  \t 4.07182908677 \t0.581659233613\n",
      "Brotula barbata \tLTR  \t 0.964328428632 \t0.137753948605\n",
      "Brotula barbata \tLINE \t 1.69390189089 \t0.24197323971\n",
      "Brotula barbata \tSINE \t 0.270309282912 \t0.0386135780717\n",
      "Parablennius parvicornis \tDNA  \t 6.72745646733 \t0.642507424177\n",
      "Parablennius parvicornis \tLTR  \t 1.05415687964 \t0.100677518272\n",
      "Parablennius parvicornis \tLINE \t 2.46797180222 \t0.235704268513\n",
      "Parablennius parvicornis \tSINE \t 0.221043226744 \t0.0211107890384\n",
      "Acanthochaenus luetkenii \tDNA  \t 11.3328745136 \t0.590856491991\n",
      "Acanthochaenus luetkenii \tLTR  \t 1.90843173427 \t0.0994989645712\n",
      "Acanthochaenus luetkenii \tLINE \t 5.1711205381 \t0.269604162399\n",
      "Acanthochaenus luetkenii \tSINE \t 0.767991246503 \t0.0400403810389\n",
      "Monocentris japonica \tDNA  \t 8.16762427632 \t0.604163639151\n",
      "Monocentris japonica \tLTR  \t 1.44409132634 \t0.106820225988\n",
      "Monocentris japonica \tLINE \t 3.02133212539 \t0.223489591368\n",
      "Monocentris japonica \tSINE \t 0.885846404342 \t0.0655265434929\n",
      "Carapus acus \tDNA  \t 7.81853105572 \t0.553757368931\n",
      "Carapus acus \tLTR  \t 1.47583397826 \t0.104527811549\n",
      "Carapus acus \tLINE \t 4.65513902593 \t0.329706120067\n",
      "Carapus acus \tSINE \t 0.169551494723 \t0.0120086994535\n",
      "Muraenolepis marmoratus \tDNA  \t 7.70377554398 \t0.368344269319\n",
      "Muraenolepis marmoratus \tLTR  \t 3.65013414478 \t0.174525592912\n",
      "Muraenolepis marmoratus \tLINE \t 8.41461693368 \t0.402332065406\n",
      "Muraenolepis marmoratus \tSINE \t 1.1460801345 \t0.0547980723624\n",
      "Merlangius merlangus \tDNA  \t 8.29915438094 \t0.589003915134\n",
      "Merlangius merlangus \tLTR  \t 3.21070920915 \t0.227869034331\n",
      "Merlangius merlangus \tLINE \t 2.35202515535 \t0.166926889344\n",
      "Merlangius merlangus \tSINE \t 0.228262725027 \t0.016200161191\n",
      "Borostomias antarcticus \tDNA  \t 7.00418733842 \t0.438958001716\n",
      "Borostomias antarcticus \tLTR  \t 2.20378976695 \t0.138113260763\n",
      "Borostomias antarcticus \tLINE \t 6.08169396582 \t0.381144606976\n",
      "Borostomias antarcticus \tSINE \t 0.66672409882 \t0.0417841305456\n",
      "Danio rerio \tDNA  \t 39.3369254476 \t0.776361673074\n",
      "Danio rerio \tLTR  \t 5.58746410157 \t0.110275343809\n",
      "Danio rerio \tLINE \t 3.5918073039 \t0.070888649687\n",
      "Danio rerio \tSINE \t 2.15210222953 \t0.0424743334292\n"
     ]
    }
   ],
   "source": [
    "for SPECIES in set(classes.SPECIES):\n",
    "    frame = classes[classes['SPECIES']==SPECIES]\n",
    "    frame['TOTAL'] = frame.MASKED_PERC.sum()\n",
    "    frame['PERC'] = frame.MASKED_PERC / frame.TOTAL\n",
    "    frame = frame.pivot('ALIAS', 'CLASS', 'PERC').reset_index()\n",
    "    \n",
    "    print SPECIES, '\\t', 'DNA  \\t %s' % classes[(classes['SPECIES']==SPECIES) & (classes['CLASS']=='DNA')].MASKED_PERC.values[0], \"\\t\", frame.DNA.values[0] \n",
    "    print SPECIES, '\\t','LTR  \\t %s' % classes[(classes['SPECIES']==SPECIES) & (classes['CLASS']=='LTR')].MASKED_PERC.values[0], \"\\t\", frame.LTR.values[0]\n",
    "    print SPECIES, '\\t','LINE \\t %s' % classes[(classes['SPECIES']==SPECIES) & (classes['CLASS']=='LINE')].MASKED_PERC.values[0], \"\\t\", frame.LINE.values[0]\n",
    "    print SPECIES, '\\t','SINE \\t %s' % classes[(classes['SPECIES']==SPECIES) & (classes['CLASS']=='SINE')].MASKED_PERC.values[0], \"\\t\", frame.SINE.values[0]"
   ]
  },
  {
   "cell_type": "markdown",
   "metadata": {},
   "source": [
    "The information above was pasted into a text editor and saved as a table"
   ]
  },
  {
   "cell_type": "code",
   "execution_count": 56,
   "metadata": {
    "collapsed": true
   },
   "outputs": [],
   "source": [
    "table = pd.read_table('../tables/supplementary_table_classified_fractions.txt',\n",
    "              header = None, names = ['SPECIES', 'CLASS', 'PERC', 'FRACTION'])"
   ]
  },
  {
   "cell_type": "code",
   "execution_count": 59,
   "metadata": {
    "collapsed": false
   },
   "outputs": [
    {
     "data": {
      "text/html": [
       "<div>\n",
       "<table border=\"1\" class=\"dataframe\">\n",
       "  <thead>\n",
       "    <tr style=\"text-align: right;\">\n",
       "      <th></th>\n",
       "      <th>SPECIES</th>\n",
       "      <th>CLASS</th>\n",
       "      <th>PERC</th>\n",
       "      <th>FRACTION</th>\n",
       "    </tr>\n",
       "  </thead>\n",
       "  <tbody>\n",
       "    <tr>\n",
       "      <th>0</th>\n",
       "      <td>Stylephorus chordatus</td>\n",
       "      <td>DNA</td>\n",
       "      <td>8.965700</td>\n",
       "      <td>0.466568</td>\n",
       "    </tr>\n",
       "    <tr>\n",
       "      <th>1</th>\n",
       "      <td>Stylephorus chordatus</td>\n",
       "      <td>LTR</td>\n",
       "      <td>3.227463</td>\n",
       "      <td>0.167955</td>\n",
       "    </tr>\n",
       "    <tr>\n",
       "      <th>2</th>\n",
       "      <td>Stylephorus chordatus</td>\n",
       "      <td>LINE</td>\n",
       "      <td>6.452793</td>\n",
       "      <td>0.335799</td>\n",
       "    </tr>\n",
       "    <tr>\n",
       "      <th>3</th>\n",
       "      <td>Stylephorus chordatus</td>\n",
       "      <td>SINE</td>\n",
       "      <td>0.570306</td>\n",
       "      <td>0.029678</td>\n",
       "    </tr>\n",
       "    <tr>\n",
       "      <th>4</th>\n",
       "      <td>Selene dorsalis</td>\n",
       "      <td>DNA</td>\n",
       "      <td>3.983084</td>\n",
       "      <td>0.638647</td>\n",
       "    </tr>\n",
       "    <tr>\n",
       "      <th>5</th>\n",
       "      <td>Selene dorsalis</td>\n",
       "      <td>LTR</td>\n",
       "      <td>0.645859</td>\n",
       "      <td>0.103557</td>\n",
       "    </tr>\n",
       "    <tr>\n",
       "      <th>6</th>\n",
       "      <td>Selene dorsalis</td>\n",
       "      <td>LINE</td>\n",
       "      <td>1.294588</td>\n",
       "      <td>0.207574</td>\n",
       "    </tr>\n",
       "    <tr>\n",
       "      <th>7</th>\n",
       "      <td>Selene dorsalis</td>\n",
       "      <td>SINE</td>\n",
       "      <td>0.313226</td>\n",
       "      <td>0.050223</td>\n",
       "    </tr>\n",
       "    <tr>\n",
       "      <th>8</th>\n",
       "      <td>Chromis chromis</td>\n",
       "      <td>DNA</td>\n",
       "      <td>11.624514</td>\n",
       "      <td>0.680245</td>\n",
       "    </tr>\n",
       "    <tr>\n",
       "      <th>9</th>\n",
       "      <td>Chromis chromis</td>\n",
       "      <td>LTR</td>\n",
       "      <td>0.801370</td>\n",
       "      <td>0.046895</td>\n",
       "    </tr>\n",
       "  </tbody>\n",
       "</table>\n",
       "</div>"
      ],
      "text/plain": [
       "                  SPECIES  CLASS       PERC  FRACTION\n",
       "0  Stylephorus chordatus   DNA     8.965700  0.466568\n",
       "1  Stylephorus chordatus   LTR     3.227463  0.167955\n",
       "2  Stylephorus chordatus   LINE    6.452793  0.335799\n",
       "3  Stylephorus chordatus   SINE    0.570306  0.029678\n",
       "4        Selene dorsalis   DNA     3.983084  0.638647\n",
       "5        Selene dorsalis   LTR     0.645859  0.103557\n",
       "6        Selene dorsalis   LINE    1.294588  0.207574\n",
       "7        Selene dorsalis   SINE    0.313226  0.050223\n",
       "8        Chromis chromis   DNA    11.624514  0.680245\n",
       "9        Chromis chromis   LTR     0.801370  0.046895"
      ]
     },
     "execution_count": 59,
     "metadata": {},
     "output_type": "execute_result"
    }
   ],
   "source": [
    "table.head(10)"
   ]
  },
  {
   "cell_type": "code",
   "execution_count": 57,
   "metadata": {
    "collapsed": false
   },
   "outputs": [
    {
     "data": {
      "text/plain": [
       "74"
      ]
     },
     "execution_count": 57,
     "metadata": {},
     "output_type": "execute_result"
    }
   ],
   "source": [
    "len(set(table.SPECIES))"
   ]
  },
  {
   "cell_type": "code",
   "execution_count": 61,
   "metadata": {
    "collapsed": false
   },
   "outputs": [
    {
     "name": "stderr",
     "output_type": "stream",
     "text": [
      "/Users/williambrynildsen/.local/lib/python2.7/site-packages/ipykernel/__main__.py:3: SettingWithCopyWarning: \n",
      "A value is trying to be set on a copy of a slice from a DataFrame.\n",
      "Try using .loc[row_indexer,col_indexer] = value instead\n",
      "\n",
      "See the caveats in the documentation: http://pandas.pydata.org/pandas-docs/stable/indexing.html#indexing-view-versus-copy\n",
      "  app.launch_new_instance()\n",
      "/Users/williambrynildsen/.local/lib/python2.7/site-packages/ipykernel/__main__.py:4: SettingWithCopyWarning: \n",
      "A value is trying to be set on a copy of a slice from a DataFrame.\n",
      "Try using .loc[row_indexer,col_indexer] = value instead\n",
      "\n",
      "See the caveats in the documentation: http://pandas.pydata.org/pandas-docs/stable/indexing.html#indexing-view-versus-copy\n"
     ]
    },
    {
     "data": {
      "image/png": "[encoded data removed]",
      "text/plain": [
       "<matplotlib.figure.Figure at 0x112a67d50>"
      ]
     },
     "metadata": {},
     "output_type": "display_data"
    },
    {
     "data": {
      "image/png": "[encoded data removed]",
      "text/plain": [
       "<matplotlib.figure.Figure at 0x119e05250>"
      ]
     },
     "metadata": {},
     "output_type": "display_data"
    },
    {
     "data": {
      "image/png": "[encoded data removed]",
      "text/plain": [
       "<matplotlib.figure.Figure at 0x11ea25d10>"
      ]
     },
     "metadata": {},
     "output_type": "display_data"
    },
    {
     "data": {
      "image/png": "[encoded data removed]",
      "text/plain": [
       "<matplotlib.figure.Figure at 0x1247e2450>"
      ]
     },
     "metadata": {},
     "output_type": "display_data"
    },
    {
     "data": {
      "image/png": "[encoded data removed]",
      "text/plain": [
       "<matplotlib.figure.Figure at 0x1225d91d0>"
      ]
     },
     "metadata": {},
     "output_type": "display_data"
    },
    {
     "data": {
      "image/png": "[encoded data removed]",
      "text/plain": [
       "<matplotlib.figure.Figure at 0x10d84f290>"
      ]
     },
     "metadata": {},
     "output_type": "display_data"
    },
    {
     "data": {
      "image/png": "[encoded data removed]",
      "text/plain": [
       "<matplotlib.figure.Figure at 0x1184ce4d0>"
      ]
     },
     "metadata": {},
     "output_type": "display_data"
    },
    {
     "data": {
      "image/png": "[encoded data removed]",
      "text/plain": [
       "<matplotlib.figure.Figure at 0x118614ad0>"
      ]
     },
     "metadata": {},
     "output_type": "display_data"
    },
    {
     "data": {
      "image/png": "[encoded data removed]",
      "text/plain": [
       "<matplotlib.figure.Figure at 0x127cde650>"
      ]
     },
     "metadata": {},
     "output_type": "display_data"
    },
    {
     "data": {
      "image/png": "[encoded data removed]",
      "text/plain": [
       "<matplotlib.figure.Figure at 0x1126aa650>"
      ]
     },
     "metadata": {},
     "output_type": "display_data"
    },
    {
     "data": {
      "image/png": "[encoded data removed]",
      "text/plain": [
       "<matplotlib.figure.Figure at 0x1243c6810>"
      ]
     },
     "metadata": {},
     "output_type": "display_data"
    },
    {
     "data": {
      "image/png": "[encoded data removed]",
      "text/plain": [
       "<matplotlib.figure.Figure at 0x10cef4490>"
      ]
     },
     "metadata": {},
     "output_type": "display_data"
    },
    {
     "data": {
      "image/png": "[encoded data removed]",
      "text/plain": [
       "<matplotlib.figure.Figure at 0x124d8d310>"
      ]
     },
     "metadata": {},
     "output_type": "display_data"
    },
    {
     "data": {
      "image/png": "[encoded data removed]",
      "text/plain": [
       "<matplotlib.figure.Figure at 0x117362f10>"
      ]
     },
     "metadata": {},
     "output_type": "display_data"
    },
    {
     "data": {
      "image/png": "[encoded data removed]",
      "text/plain": [
       "<matplotlib.figure.Figure at 0x1186383d0>"
      ]
     },
     "metadata": {},
     "output_type": "display_data"
    },
    {
     "data": {
      "image/png": "[encoded data removed]",
      "text/plain": [
       "<matplotlib.figure.Figure at 0x125970090>"
      ]
     },
     "metadata": {},
     "output_type": "display_data"
    },
    {
     "data": {
      "image/png": "[encoded data removed]",
      "text/plain": [
       "<matplotlib.figure.Figure at 0x1243f9fd0>"
      ]
     },
     "metadata": {},
     "output_type": "display_data"
    },
    {
     "data": {
      "image/png": "[encoded data removed]",
      "text/plain": [
       "<matplotlib.figure.Figure at 0x118619390>"
      ]
     },
     "metadata": {},
     "output_type": "display_data"
    },
    {
     "data": {
      "image/png": "[encoded data removed]",
      "text/plain": [
       "<matplotlib.figure.Figure at 0x12260e850>"
      ]
     },
     "metadata": {},
     "output_type": "display_data"
    },
    {
     "data": {
      "image/png": "[encoded data removed]",
      "text/plain": [
       "<matplotlib.figure.Figure at 0x12262c810>"
      ]
     },
     "metadata": {},
     "output_type": "display_data"
    },
    {
     "data": {
      "image/png": "[encoded data removed]",
      "text/plain": [
       "<matplotlib.figure.Figure at 0x1149201d0>"
      ]
     },
     "metadata": {},
     "output_type": "display_data"
    },
    {
     "data": {
      "image/png": "[encoded data removed]",
      "text/plain": [
       "<matplotlib.figure.Figure at 0x125d30f90>"
      ]
     },
     "metadata": {},
     "output_type": "display_data"
    },
    {
     "data": {
      "image/png": "[encoded data removed]",
      "text/plain": [
       "<matplotlib.figure.Figure at 0x112a4e710>"
      ]
     },
     "metadata": {},
     "output_type": "display_data"
    },
    {
     "data": {
      "image/png": "[encoded data removed]",
      "text/plain": [
       "<matplotlib.figure.Figure at 0x1273c5f90>"
      ]
     },
     "metadata": {},
     "output_type": "display_data"
    },
    {
     "data": {
      "image/png": "[encoded data removed]",
      "text/plain": [
       "<matplotlib.figure.Figure at 0x123b16450>"
      ]
     },
     "metadata": {},
     "output_type": "display_data"
    },
    {
     "data": {
      "image/png": "[encoded data removed]",
      "text/plain": [
       "<matplotlib.figure.Figure at 0x1244b74d0>"
      ]
     },
     "metadata": {},
     "output_type": "display_data"
    },
    {
     "data": {
      "image/png": "[encoded data removed]",
      "text/plain": [
       "<matplotlib.figure.Figure at 0x12449e750>"
      ]
     },
     "metadata": {},
     "output_type": "display_data"
    },
    {
     "data": {
      "image/png": "[encoded data removed]",
      "text/plain": [
       "<matplotlib.figure.Figure at 0x12528c210>"
      ]
     },
     "metadata": {},
     "output_type": "display_data"
    },
    {
     "data": {
      "image/png": "[encoded data removed]",
      "text/plain": [
       "<matplotlib.figure.Figure at 0x116136d10>"
      ]
     },
     "metadata": {},
     "output_type": "display_data"
    },
    {
     "data": {
      "image/png": "[encoded data removed]",
      "text/plain": [
       "<matplotlib.figure.Figure at 0x114f00d50>"
      ]
     },
     "metadata": {},
     "output_type": "display_data"
    },
    {
     "data": {
      "image/png": "[encoded data removed]",
      "text/plain": [
       "<matplotlib.figure.Figure at 0x10d109190>"
      ]
     },
     "metadata": {},
     "output_type": "display_data"
    },
    {
     "data": {
      "image/png": "[encoded data removed]",
      "text/plain": [
       "<matplotlib.figure.Figure at 0x114f33710>"
      ]
     },
     "metadata": {},
     "output_type": "display_data"
    },
    {
     "data": {
      "image/png": "[encoded data removed]",
      "text/plain": [
       "<matplotlib.figure.Figure at 0x118beeed0>"
      ]
     },
     "metadata": {},
     "output_type": "display_data"
    },
    {
     "data": {
      "image/png": "[encoded data removed]",
      "text/plain": [
       "<matplotlib.figure.Figure at 0x122c753d0>"
      ]
     },
     "metadata": {},
     "output_type": "display_data"
    },
    {
     "data": {
      "image/png": "[encoded data removed]",
      "text/plain": [
       "<matplotlib.figure.Figure at 0x1213a6110>"
      ]
     },
     "metadata": {},
     "output_type": "display_data"
    },
    {
     "data": {
      "image/png": "[encoded data removed]",
      "text/plain": [
       "<matplotlib.figure.Figure at 0x125a5f310>"
      ]
     },
     "metadata": {},
     "output_type": "display_data"
    },
    {
     "data": {
      "image/png": "[encoded data removed]",
      "text/plain": [
       "<matplotlib.figure.Figure at 0x120d45290>"
      ]
     },
     "metadata": {},
     "output_type": "display_data"
    },
    {
     "data": {
      "image/png": "[encoded data removed]",
      "text/plain": [
       "<matplotlib.figure.Figure at 0x1171b55d0>"
      ]
     },
     "metadata": {},
     "output_type": "display_data"
    },
    {
     "data": {
      "image/png": "[encoded data removed]",
      "text/plain": [
       "<matplotlib.figure.Figure at 0x117953790>"
      ]
     },
     "metadata": {},
     "output_type": "display_data"
    },
    {
     "data": {
      "image/png": "[encoded data removed]",
      "text/plain": [
       "<matplotlib.figure.Figure at 0x117950d50>"
      ]
     },
     "metadata": {},
     "output_type": "display_data"
    },
    {
     "data": {
      "image/png": "[encoded data removed]",
      "text/plain": [
       "<matplotlib.figure.Figure at 0x12418bb50>"
      ]
     },
     "metadata": {},
     "output_type": "display_data"
    },
    {
     "data": {
      "image/png": "[encoded data removed]",
      "text/plain": [
       "<matplotlib.figure.Figure at 0x123b71b10>"
      ]
     },
     "metadata": {},
     "output_type": "display_data"
    },
    {
     "data": {
      "image/png": "[encoded data removed]",
      "text/plain": [
       "<matplotlib.figure.Figure at 0x1245894d0>"
      ]
     },
     "metadata": {},
     "output_type": "display_data"
    },
    {
     "data": {
      "image/png": "[encoded data removed]",
      "text/plain": [
       "<matplotlib.figure.Figure at 0x12230a890>"
      ]
     },
     "metadata": {},
     "output_type": "display_data"
    },
    {
     "data": {
      "image/png": "[encoded data removed]",
      "text/plain": [
       "<matplotlib.figure.Figure at 0x11735df10>"
      ]
     },
     "metadata": {},
     "output_type": "display_data"
    },
    {
     "data": {
      "image/png": "[encoded data removed]",
      "text/plain": [
       "<matplotlib.figure.Figure at 0x122743ed0>"
      ]
     },
     "metadata": {},
     "output_type": "display_data"
    },
    {
     "data": {
      "image/png": "[encoded data removed]",
      "text/plain": [
       "<matplotlib.figure.Figure at 0x118284dd0>"
      ]
     },
     "metadata": {},
     "output_type": "display_data"
    },
    {
     "data": {
      "image/png": "[encoded data removed]",
      "text/plain": [
       "<matplotlib.figure.Figure at 0x117424150>"
      ]
     },
     "metadata": {},
     "output_type": "display_data"
    },
    {
     "data": {
      "image/png": "[encoded data removed]",
      "text/plain": [
       "<matplotlib.figure.Figure at 0x1189c5690>"
      ]
     },
     "metadata": {},
     "output_type": "display_data"
    },
    {
     "data": {
      "image/png": "[encoded data removed]",
      "text/plain": [
       "<matplotlib.figure.Figure at 0x12274da10>"
      ]
     },
     "metadata": {},
     "output_type": "display_data"
    },
    {
     "data": {
      "image/png": "[encoded data removed]",
      "text/plain": [
       "<matplotlib.figure.Figure at 0x1182b1050>"
      ]
     },
     "metadata": {},
     "output_type": "display_data"
    },
    {
     "data": {
      "image/png": "[encoded data removed]",
      "text/plain": [
       "<matplotlib.figure.Figure at 0x11829ee50>"
      ]
     },
     "metadata": {},
     "output_type": "display_data"
    },
    {
     "data": {
      "image/png": "[encoded data removed]",
      "text/plain": [
       "<matplotlib.figure.Figure at 0x123573e50>"
      ]
     },
     "metadata": {},
     "output_type": "display_data"
    },
    {
     "data": {
      "image/png": "[encoded data removed]",
      "text/plain": [
       "<matplotlib.figure.Figure at 0x122483790>"
      ]
     },
     "metadata": {},
     "output_type": "display_data"
    },
    {
     "data": {
      "image/png": "[encoded data removed]",
      "text/plain": [
       "<matplotlib.figure.Figure at 0x11a072810>"
      ]
     },
     "metadata": {},
     "output_type": "display_data"
    },
    {
     "data": {
      "image/png": "[encoded data removed]",
      "text/plain": [
       "<matplotlib.figure.Figure at 0x122f33090>"
      ]
     },
     "metadata": {},
     "output_type": "display_data"
    },
    {
     "data": {
      "image/png": "[encoded data removed]",
      "text/plain": [
       "<matplotlib.figure.Figure at 0x11478afd0>"
      ]
     },
     "metadata": {},
     "output_type": "display_data"
    },
    {
     "data": {
      "image/png": "[encoded data removed]",
      "text/plain": [
       "<matplotlib.figure.Figure at 0x122f6e750>"
      ]
     },
     "metadata": {},
     "output_type": "display_data"
    },
    {
     "data": {
      "image/png": "[encoded data removed]",
      "text/plain": [
       "<matplotlib.figure.Figure at 0x11eca4610>"
      ]
     },
     "metadata": {},
     "output_type": "display_data"
    },
    {
     "data": {
      "image/png": "[encoded data removed]",
      "text/plain": [
       "<matplotlib.figure.Figure at 0x10cad2910>"
      ]
     },
     "metadata": {},
     "output_type": "display_data"
    },
    {
     "data": {
      "image/png": "[encoded data removed]",
      "text/plain": [
       "<matplotlib.figure.Figure at 0x10cae9c50>"
      ]
     },
     "metadata": {},
     "output_type": "display_data"
    },
    {
     "data": {
      "image/png": "[encoded data removed]",
      "text/plain": [
       "<matplotlib.figure.Figure at 0x10c1e9f90>"
      ]
     },
     "metadata": {},
     "output_type": "display_data"
    },
    {
     "data": {
      "image/png": "[encoded data removed]",
      "text/plain": [
       "<matplotlib.figure.Figure at 0x11af53190>"
      ]
     },
     "metadata": {},
     "output_type": "display_data"
    },
    {
     "data": {
      "image/png": "[encoded data removed]",
      "text/plain": [
       "<matplotlib.figure.Figure at 0x123235610>"
      ]
     },
     "metadata": {},
     "output_type": "display_data"
    },
    {
     "data": {
      "image/png": "[encoded data removed]",
      "text/plain": [
       "<matplotlib.figure.Figure at 0x1217531d0>"
      ]
     },
     "metadata": {},
     "output_type": "display_data"
    },
    {
     "data": {
      "image/png": "[encoded data removed]",
      "text/plain": [
       "<matplotlib.figure.Figure at 0x123873790>"
      ]
     },
     "metadata": {},
     "output_type": "display_data"
    },
    {
     "data": {
      "image/png": "[encoded data removed]",
      "text/plain": [
       "<matplotlib.figure.Figure at 0x1201b61d0>"
      ]
     },
     "metadata": {},
     "output_type": "display_data"
    },
    {
     "data": {
      "image/png": "[encoded data removed]",
      "text/plain": [
       "<matplotlib.figure.Figure at 0x112443ed0>"
      ]
     },
     "metadata": {},
     "output_type": "display_data"
    },
    {
     "data": {
      "image/png": "[encoded data removed]",
      "text/plain": [
       "<matplotlib.figure.Figure at 0x11525df10>"
      ]
     },
     "metadata": {},
     "output_type": "display_data"
    },
    {
     "data": {
      "image/png": "[encoded data removed]",
      "text/plain": [
       "<matplotlib.figure.Figure at 0x11f06e790>"
      ]
     },
     "metadata": {},
     "output_type": "display_data"
    },
    {
     "data": {
      "image/png": "[encoded data removed]",
      "text/plain": [
       "<matplotlib.figure.Figure at 0x112550110>"
      ]
     },
     "metadata": {},
     "output_type": "display_data"
    },
    {
     "data": {
      "image/png": "[encoded data removed]",
      "text/plain": [
       "<matplotlib.figure.Figure at 0x11b9c2490>"
      ]
     },
     "metadata": {},
     "output_type": "display_data"
    },
    {
     "data": {
      "image/png": "[encoded data removed]",
      "text/plain": [
       "<matplotlib.figure.Figure at 0x116c10d50>"
      ]
     },
     "metadata": {},
     "output_type": "display_data"
    },
    {
     "data": {
      "image/png": "[encoded data removed]",
      "text/plain": [
       "<matplotlib.figure.Figure at 0x115925550>"
      ]
     },
     "metadata": {},
     "output_type": "display_data"
    }
   ],
   "source": [
    "for alias in set(classes.ALIAS):   # replace ['fish_97'] with set(classes.ALIAS) for one bar per fish\n",
    "    frame = classes[classes['ALIAS']==alias]\n",
    "    frame['TOTAL'] = frame.MASKED_PERC.sum()\n",
    "    frame['PERC'] = frame.MASKED_PERC / frame.TOTAL\n",
    "    frame = frame.pivot('ALIAS', 'CLASS', 'PERC').reset_index()\n",
    "\n",
    "    figure = frame.plot(kind = 'barh', stacked = True, linewidth = 1, xlim = [0,1],\n",
    "                        figsize = (25,2), grid = None, style = None, legend = None,\n",
    "               colors = ['#d66e57', '#416d8f', '#b1d6ed', '#ffd521']).set_axis_bgcolor('white')\n",
    "\n",
    "    ax = plt.axes()\n",
    "    ax.set_yticks([])\n",
    "    ax.set_xticks([])\n",
    "    ax.tick_params(axis='x', colors=None)\n",
    "    plt.tight_layout()\n",
    "    plt.savefig('../figures/barplots/barplot_%s.png' % alias, type = 'png', transparent = True)"
   ]
  },
  {
   "cell_type": "markdown",
   "metadata": {},
   "source": [
    "# Making the figure with barplots on each node"
   ]
  },
  {
   "cell_type": "code",
   "execution_count": 65,
   "metadata": {
    "collapsed": false
   },
   "outputs": [
    {
     "data": {
      "text/plain": [
       "'Done'"
      ]
     },
     "execution_count": 65,
     "metadata": {},
     "output_type": "execute_result"
    }
   ],
   "source": [
    "from ete3 import Tree, faces, TreeStyle, TextFace, NodeStyle, CircleFace\n",
    "\n",
    "def make_a_cool_figure(tree, order, filename):\n",
    "    # Importing full phylogeny (courtesy Micha and Martin)\n",
    "    t = Tree(tree)\n",
    "\n",
    "    # Deleting missing data that I do not have a RepeatLandscape for.\n",
    "    \n",
    "\n",
    "    fish_94 = t.search_nodes(name=\"fish_94\")[0]\n",
    "    fish_94.delete()\n",
    "    fish_107 = t.search_nodes(name=\"fish_107\")[0]\n",
    "    fish_107.delete()\n",
    "\n",
    "    # Remove fish that produce barcharts of the wrong size\n",
    "    \n",
    "    # For every node label, get the names\n",
    "    fish = []\n",
    "    for node in t.traverse():\n",
    "        if 'fish' in node.name:\n",
    "            fish.append(node.name)\n",
    "    \n",
    "\n",
    "    # Create the layout\n",
    "    def mylayout(node): \n",
    "        if node.is_leaf():\n",
    "            for i in fish:\n",
    "                if node.search_nodes(name = i):\n",
    "                    if i in set(df2.ALIAS):\n",
    "                        faces.add_face_to_node(faces.TextFace('%s' % df2[df2['ALIAS']==i].SPECIES.unique()[0], fsize = 96), \n",
    "                                           node, column=0)\n",
    "\n",
    "    # ADDING STACKED BARS                \n",
    "                        faces.add_face_to_node(faces.ImgFace('../figures/barplots/barplot_%s.png' % i), \n",
    "                                               node, column=2, aligned = True)                  \n",
    "\n",
    "    for n in t.traverse():\n",
    "        nstyle = NodeStyle()\n",
    "        nstyle[\"fgcolor\"] = \"White\"\n",
    "        nstyle[\"size\"] = 0.1\n",
    "        n.set_style(nstyle)\n",
    "    \n",
    "    # Coloring Acanthomorphata\n",
    "    n = t.get_common_ancestor(set(df2[(df2['SPECIES']=='Polymixia japonica') |\n",
    "                                           (df2['SPECIES']=='Gadus morhua')].ALIAS))\n",
    "    nstyle = NodeStyle()\n",
    "    #nstyle['bgcolor'] = 'Bisque'\n",
    "    nstyle['bgcolor'] = 'Seashell'\n",
    "    n.set_style(nstyle)\n",
    "\n",
    "    # Coloring Gadiformes\n",
    "    n = t.get_common_ancestor(set(df2[df2['ORDER']=='Gadiformes'].ALIAS))\n",
    "    nstyle = NodeStyle()\n",
    "    #nstyle['bgcolor'] = 'BlanchedAlmond'\n",
    "    nstyle['bgcolor'] = 'WhiteSmoke'\n",
    "    n.set_style(nstyle)\n",
    "    \n",
    "    \n",
    "    # Coloring Acanthopterygii\n",
    "    n = t.get_common_ancestor(set(df2[(df2['SPECIES']=='Monocentris japonica') |\n",
    "                                           (df2['SPECIES']=='Xiphophorus maculatus')].ALIAS))\n",
    "    nstyle = NodeStyle()\n",
    "    #nstyle['bgcolor'] = 'Plum'\n",
    "    nstyle['bgcolor'] = 'Ivory'\n",
    "    n.set_style(nstyle)\n",
    "\n",
    "    # Coloring Percomorphaceae\n",
    "    n = t.get_common_ancestor(set(df2[(df2['SPECIES']=='Chatrabus melanurus') |\n",
    "                                           (df2['SPECIES']=='Xiphophorus maculatus')].ALIAS))\n",
    "    nstyle = NodeStyle()\n",
    "    #nstyle['bgcolor'] = 'Thistle'\n",
    "    nstyle['bgcolor'] = 'Snow'\n",
    "    n.set_style(nstyle)\n",
    "    \n",
    "    # Coloring Lampridacea\n",
    "    n = t.get_common_ancestor(set(df2[(df2['SPECIES']=='Regalecus glesne') |\n",
    "                                           (df2['SPECIES']=='Lampris guttauts')].ALIAS))\n",
    "    nstyle = NodeStyle()\n",
    "    #nstyle['bgcolor'] = 'Khaki'\n",
    "    nstyle['bgcolor'] = 'Snow'\n",
    "    n.set_style(nstyle)\n",
    "    \n",
    "    # Coloring the rest\n",
    "    n = t.get_common_ancestor(set(df2[(df2['SPECIES']=='Benthosema glaciale') |\n",
    "                                           (df2['SPECIES']=='Danio rerio')].ALIAS))\n",
    "    nstyle = NodeStyle()\n",
    "    #nstyle['bgcolor'] = 'LavenderBlush'\n",
    "    \n",
    "    nstyle['bgcolor'] = 'Linen'\n",
    "\n",
    "    n.set_style(nstyle)\n",
    "    \n",
    "    # Display the tree\n",
    "    ts = TreeStyle()\n",
    "    #ts.complete_branch_lines_when_necessary = True\n",
    "    ts.show_leaf_name = False\n",
    "    ts.show_branch_length = False\n",
    "    ts.show_scale = False\n",
    "    ts.layout_fn = mylayout\n",
    "    #ts.mode = 'c'\n",
    "    ts.arc_start = 180 # 0 degrees = 3 o'clock\n",
    "    ts.arc_span =  -180\n",
    "    #ts.scale = None\n",
    "    ts.tree_width = 2000\n",
    "    #ts.title.add_face(TextFace(\"%s\" % order, fsize=76), column = 0)\n",
    "    \n",
    "    \n",
    "    t.render(filename, tree_style = ts)\n",
    "    return \"Done\"\n",
    "\n",
    "make_a_cool_figure('../phylogeny/final_tree.tre', '', '../figures/%s_tree.pdf' % '3.may_test_barplot')"
   ]
  }
 ],
 "metadata": {
  "kernelspec": {
   "display_name": "Python 2",
   "language": "python",
   "name": "python2"
  },
  "language_info": {
   "codemirror_mode": {
    "name": "ipython",
    "version": 2
   },
   "file_extension": ".py",
   "mimetype": "text/x-python",
   "name": "python",
   "nbconvert_exporter": "python",
   "pygments_lexer": "ipython2",
   "version": "2.7.11"
  }
 },
 "nbformat": 4,
 "nbformat_minor": 0
}
